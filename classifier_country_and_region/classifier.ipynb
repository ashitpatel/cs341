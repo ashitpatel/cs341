{
 "cells": [
  {
   "cell_type": "code",
   "execution_count": 59,
   "metadata": {
    "collapsed": true
   },
   "outputs": [],
   "source": [
    "import json\n",
    "import nltk"
   ]
  },
  {
   "cell_type": "code",
   "execution_count": 76,
   "metadata": {},
   "outputs": [],
   "source": [
    "with open('middle_leaf_map.json') as json_file:\n",
    "    data = json.load(json_file)"
   ]
  },
  {
   "cell_type": "code",
   "execution_count": 77,
   "metadata": {
    "scrolled": false
   },
   "outputs": [],
   "source": [
    "country_and_region_classifier = {}\n",
    "\n",
    "for item in data:\n",
    "    for k, v in item.items():\n",
    "        if k=='Middle East & No. Africa' or k=='Africa' or k=='Asia & Pacific' or k=='Europe & Central Asia' or k=='Americas':\n",
    "            v.append(k)\n",
    "            country_and_region_classifier[k] = v"
   ]
  },
  {
   "cell_type": "code",
   "execution_count": 78,
   "metadata": {},
   "outputs": [],
   "source": [
    "# include the keyword in lower case in the dictionary\n",
    "for k,v in country_and_region_classifier.items():\n",
    "    lower_list = [x.lower() for x in v]\n",
    "    country_and_region_classifier[k] = v+lower_list"
   ]
  },
  {
   "cell_type": "code",
   "execution_count": 79,
   "metadata": {},
   "outputs": [
    {
     "name": "stdout",
     "output_type": "stream",
     "text": [
      "{'Middle East & No. Africa': ['Global', 'Middle East & No. Africa: General', 'Algeria', 'Bahrain', 'Egypt', 'Lebanon', 'Libya', 'Morocco / Western Sahara', 'Kuwait', 'Jordan', 'Iran', 'Iraq', 'Israel & Occupied Palestinian Territories', 'Oman', 'Qatar', 'Saudi Arabia', 'Syria', 'Tunisia', 'United Arab Emirates', 'Yemen', 'Middle East & No. Africa', 'global', 'middle east & no. africa: general', 'algeria', 'bahrain', 'egypt', 'lebanon', 'libya', 'morocco / western sahara', 'kuwait', 'jordan', 'iran', 'iraq', 'israel & occupied palestinian territories', 'oman', 'qatar', 'saudi arabia', 'syria', 'tunisia', 'united arab emirates', 'yemen', 'middle east & no. africa'], 'Africa': ['Africa: General', 'Angola', 'Benin', 'Botswana', 'Burkina Faso', 'Burundi', 'Cameroon', 'Cape Verde', 'Central African Republic', 'Chad', 'Comoros', 'Congo - Democratic Republic of', 'Congo - Republic of', \"CÃ´te d'Ivoire\", 'Djibouti', 'Equatorial Guinea', 'Eritrea', 'Ethiopia', 'Gabon', 'Gambia', 'Ghana', 'Guinea-Bissau', 'Guinea', 'Kenya', 'Lesotho', 'Liberia', 'Madagascar', 'Malawi', 'Mali', 'Mauritania', 'Mauritius', 'Mozambique', 'Namibia', 'Niger', 'Nigeria', 'Rwanda', 'SÃ£o TomÃ© & Principe', 'Senegal', 'Seychelles', 'Sierra Leone', 'Somalia', 'South Africa', 'South Sudan', 'Sudan', 'Swaziland', 'Tanzania', 'Togo', 'Uganda', 'Zambia', 'Zimbabwe', 'Africa', 'africa: general', 'angola', 'benin', 'botswana', 'burkina faso', 'burundi', 'cameroon', 'cape verde', 'central african republic', 'chad', 'comoros', 'congo - democratic republic of', 'congo - republic of', \"cã´te d'ivoire\", 'djibouti', 'equatorial guinea', 'eritrea', 'ethiopia', 'gabon', 'gambia', 'ghana', 'guinea-bissau', 'guinea', 'kenya', 'lesotho', 'liberia', 'madagascar', 'malawi', 'mali', 'mauritania', 'mauritius', 'mozambique', 'namibia', 'niger', 'nigeria', 'rwanda', 'sã£o tomã© & principe', 'senegal', 'seychelles', 'sierra leone', 'somalia', 'south africa', 'south sudan', 'sudan', 'swaziland', 'tanzania', 'togo', 'uganda', 'zambia', 'zimbabwe', 'africa'], 'Asia & Pacific': ['Asia & Pacific: General', 'Afghanistan', 'Australia', 'Bangladesh', 'Bhutan', 'Brunei', 'Burma (see Myanmar)', 'Cambodia', 'China', 'Cook Islands', 'East Timor', 'Fiji', 'India', 'Indonesia', 'Japan', 'Kiribati', 'Laos', 'Malaysia', 'Maldives', 'Marshall Islands', 'Mongolia', 'Philippines', 'Papua New Guinea', 'New Zealand', 'North Korea', 'Nepal', 'Nauru', 'Myanmar', 'Pakistan', 'Palau', 'Samoa', 'Singapore', 'Solomon Islands', 'South Korea', 'Sri Lanka', 'Taiwan', 'Thailand', 'Tuvalu', 'Tonga', 'Vanuatu', 'Vietnam', 'Asia & Pacific', 'asia & pacific: general', 'afghanistan', 'australia', 'bangladesh', 'bhutan', 'brunei', 'burma (see myanmar)', 'cambodia', 'china', 'cook islands', 'east timor', 'fiji', 'india', 'indonesia', 'japan', 'kiribati', 'laos', 'malaysia', 'maldives', 'marshall islands', 'mongolia', 'philippines', 'papua new guinea', 'new zealand', 'north korea', 'nepal', 'nauru', 'myanmar', 'pakistan', 'palau', 'samoa', 'singapore', 'solomon islands', 'south korea', 'sri lanka', 'taiwan', 'thailand', 'tuvalu', 'tonga', 'vanuatu', 'vietnam', 'asia & pacific'], 'Europe & Central Asia': ['Europe & Central Asia: General', 'Slovak Republic', 'Slovenia', 'Spain', 'Sweden', 'Serbia', 'Russia', 'Norway', 'Poland', 'Portugal', 'Romania', 'Switzerland', 'Tajikistan', 'Vatican', 'Yugoslavia', 'Uzbekistan', 'United Kingdom', 'Turkey', 'Turkmenistan', 'Ukraine', 'Netherlands', 'Montenegro', 'France', 'Georgia', 'Germany', 'Greece', 'Finland', 'Cyprus', 'Czech Republic', 'Denmark', 'Estonia', 'Hungary', 'Iceland', 'Lithuania', 'Macedonia', 'Malta', 'Moldova', 'Latvia', 'Kyrgyzstan', 'Ireland', 'Italy', 'Kazakhstan', 'Croatia', 'Luxembourg', 'Bulgaria', 'Armenia', 'Albania', 'Bosnia & Herzegovina', 'Austria', 'Azerbaijan', 'Belarus', 'Belgium', 'Europe & Central Asia', 'europe & central asia: general', 'slovak republic', 'slovenia', 'spain', 'sweden', 'serbia', 'russia', 'norway', 'poland', 'portugal', 'romania', 'switzerland', 'tajikistan', 'vatican', 'yugoslavia', 'uzbekistan', 'united kingdom', 'turkey', 'turkmenistan', 'ukraine', 'netherlands', 'montenegro', 'france', 'georgia', 'germany', 'greece', 'finland', 'cyprus', 'czech republic', 'denmark', 'estonia', 'hungary', 'iceland', 'lithuania', 'macedonia', 'malta', 'moldova', 'latvia', 'kyrgyzstan', 'ireland', 'italy', 'kazakhstan', 'croatia', 'luxembourg', 'bulgaria', 'armenia', 'albania', 'bosnia & herzegovina', 'austria', 'azerbaijan', 'belarus', 'belgium', 'europe & central asia'], 'Americas': ['Americas: General', 'Suriname', 'Trinidad & Tobago', 'Saint Lucia', 'Peru', 'Paraguay', 'Uruguay', 'Venezuela', 'Panama', 'USA', 'Nicaragua', 'Costa Rica', 'Colombia', 'Chile', 'Canada', 'Cuba', 'Ecuador', 'El Salvador', 'Guyana', 'Dominican Republic', 'Dominica', 'Guatemala', 'Brazil', 'Argentina', 'Jamaica', 'Barbados', 'Bahamas', 'Honduras', 'Belize', 'Bolivia', 'Haiti', 'Mexico', 'Americas', 'americas: general', 'suriname', 'trinidad & tobago', 'saint lucia', 'peru', 'paraguay', 'uruguay', 'venezuela', 'panama', 'usa', 'nicaragua', 'costa rica', 'colombia', 'chile', 'canada', 'cuba', 'ecuador', 'el salvador', 'guyana', 'dominican republic', 'dominica', 'guatemala', 'brazil', 'argentina', 'jamaica', 'barbados', 'bahamas', 'honduras', 'belize', 'bolivia', 'haiti', 'mexico', 'americas']}\n"
     ]
    }
   ],
   "source": [
    "print(country_and_region_classifier)"
   ]
  },
  {
   "cell_type": "code",
   "execution_count": null,
   "metadata": {
    "collapsed": true
   },
   "outputs": [],
   "source": []
  },
  {
   "cell_type": "code",
   "execution_count": 84,
   "metadata": {
    "collapsed": true
   },
   "outputs": [],
   "source": [
    "countries_and_regions_middle_class_list = ['Middle East & No. Africa','Africa','Asia & Pacific','Europe & Central Asia','Americas']\n",
    "countries_and_regions_leaf_class_list = ['Global', 'Middle East & No. Africa: General', 'Algeria', 'Bahrain', 'Egypt', 'Lebanon', 'Libya', 'Morocco / Western Sahara', 'Kuwait', 'Jordan', 'Iran', 'Iraq', 'Israel & Occupied Palestinian Territories', 'Oman', 'Qatar', 'Saudi Arabia', 'Syria', 'Tunisia', 'United Arab Emirates', 'Yemen', 'Middle East & No. Africa', 'global', 'middle east & no. africa: general', 'algeria', 'bahrain', 'egypt', 'lebanon', 'libya', 'morocco / western sahara', 'kuwait', 'jordan', 'iran', 'iraq', 'israel & occupied palestinian territories', 'oman', 'qatar', 'saudi arabia', 'syria', 'tunisia', 'united arab emirates', 'yemen', 'middle east & no. africa',\n",
    "                                        'Africa: General', 'Angola', 'Benin', 'Botswana', 'Burkina Faso', 'Burundi', 'Cameroon', 'Cape Verde', 'Central African Republic', 'Chad', 'Comoros', 'Congo - Democratic Republic of', 'Congo - Republic of', \"CÃ´te d'Ivoire\", 'Djibouti', 'Equatorial Guinea', 'Eritrea', 'Ethiopia', 'Gabon', 'Gambia', 'Ghana', 'Guinea-Bissau', 'Guinea', 'Kenya', 'Lesotho', 'Liberia', 'Madagascar', 'Malawi', 'Mali', 'Mauritania', 'Mauritius', 'Mozambique', 'Namibia', 'Niger', 'Nigeria', 'Rwanda', 'SÃ£o TomÃ© & Principe', 'Senegal', 'Seychelles', 'Sierra Leone', 'Somalia', 'South Africa', 'South Sudan', 'Sudan', 'Swaziland', 'Tanzania', 'Togo', 'Uganda', 'Zambia', 'Zimbabwe', 'Africa', 'africa: general', 'angola', 'benin', 'botswana', 'burkina faso', 'burundi', 'cameroon', 'cape verde', 'central african republic', 'chad', 'comoros', 'congo - democratic republic of', 'congo - republic of', \"cã´te d'ivoire\", 'djibouti', 'equatorial guinea', 'eritrea', 'ethiopia', 'gabon', 'gambia', 'ghana', 'guinea-bissau', 'guinea', 'kenya', 'lesotho', 'liberia', 'madagascar', 'malawi', 'mali', 'mauritania', 'mauritius', 'mozambique', 'namibia', 'niger', 'nigeria', 'rwanda', 'sã£o tomã© & principe', 'senegal', 'seychelles', 'sierra leone', 'somalia', 'south africa', 'south sudan', 'sudan', 'swaziland', 'tanzania', 'togo', 'uganda', 'zambia', 'zimbabwe', 'africa',\n",
    "                                        'Asia & Pacific: General', 'Afghanistan', 'Australia', 'Bangladesh', 'Bhutan', 'Brunei', 'Burma (see Myanmar)', 'Cambodia', 'China', 'Cook Islands', 'East Timor', 'Fiji', 'India', 'Indonesia', 'Japan', 'Kiribati', 'Laos', 'Malaysia', 'Maldives', 'Marshall Islands', 'Mongolia', 'Philippines', 'Papua New Guinea', 'New Zealand', 'North Korea', 'Nepal', 'Nauru', 'Myanmar', 'Pakistan', 'Palau', 'Samoa', 'Singapore', 'Solomon Islands', 'South Korea', 'Sri Lanka', 'Taiwan', 'Thailand', 'Tuvalu', 'Tonga', 'Vanuatu', 'Vietnam', 'Asia & Pacific', 'asia & pacific: general', 'afghanistan', 'australia', 'bangladesh', 'bhutan', 'brunei', 'burma (see myanmar)', 'cambodia', 'china', 'cook islands', 'east timor', 'fiji', 'india', 'indonesia', 'japan', 'kiribati', 'laos', 'malaysia', 'maldives', 'marshall islands', 'mongolia', 'philippines', 'papua new guinea', 'new zealand', 'north korea', 'nepal', 'nauru', 'myanmar', 'pakistan', 'palau', 'samoa', 'singapore', 'solomon islands', 'south korea', 'sri lanka', 'taiwan', 'thailand', 'tuvalu', 'tonga', 'vanuatu', 'vietnam', 'asia & pacific',\n",
    "                                        'Europe & Central Asia: General', 'Slovak Republic', 'Slovenia', 'Spain', 'Sweden', 'Serbia', 'Russia', 'Norway', 'Poland', 'Portugal', 'Romania', 'Switzerland', 'Tajikistan', 'Vatican', 'Yugoslavia', 'Uzbekistan', 'United Kingdom', 'Turkey', 'Turkmenistan', 'Ukraine', 'Netherlands', 'Montenegro', 'France', 'Georgia', 'Germany', 'Greece', 'Finland', 'Cyprus', 'Czech Republic', 'Denmark', 'Estonia', 'Hungary', 'Iceland', 'Lithuania', 'Macedonia', 'Malta', 'Moldova', 'Latvia', 'Kyrgyzstan', 'Ireland', 'Italy', 'Kazakhstan', 'Croatia', 'Luxembourg', 'Bulgaria', 'Armenia', 'Albania', 'Bosnia & Herzegovina', 'Austria', 'Azerbaijan', 'Belarus', 'Belgium', 'Europe & Central Asia', 'europe & central asia: general', 'slovak republic', 'slovenia', 'spain', 'sweden', 'serbia', 'russia', 'norway', 'poland', 'portugal', 'romania', 'switzerland', 'tajikistan', 'vatican', 'yugoslavia', 'uzbekistan', 'united kingdom', 'turkey', 'turkmenistan', 'ukraine', 'netherlands', 'montenegro', 'france', 'georgia', 'germany', 'greece', 'finland', 'cyprus', 'czech republic', 'denmark', 'estonia', 'hungary', 'iceland', 'lithuania', 'macedonia', 'malta', 'moldova', 'latvia', 'kyrgyzstan', 'ireland', 'italy', 'kazakhstan', 'croatia', 'luxembourg', 'bulgaria', 'armenia', 'albania', 'bosnia & herzegovina', 'austria', 'azerbaijan', 'belarus', 'belgium', 'europe & central asia',\n",
    "                                        'Americas: General', 'Suriname', 'Trinidad & Tobago', 'Saint Lucia', 'Peru', 'Paraguay', 'Uruguay', 'Venezuela', 'Panama', 'USA', 'Nicaragua', 'Costa Rica', 'Colombia', 'Chile', 'Canada', 'Cuba', 'Ecuador', 'El Salvador', 'Guyana', 'Dominican Republic', 'Dominica', 'Guatemala', 'Brazil', 'Argentina', 'Jamaica', 'Barbados', 'Bahamas', 'Honduras', 'Belize', 'Bolivia', 'Haiti', 'Mexico', 'Americas', 'americas: general', 'suriname', 'trinidad & tobago', 'saint lucia', 'peru', 'paraguay', 'uruguay', 'venezuela', 'panama', 'usa', 'nicaragua', 'costa rica', 'colombia', 'chile', 'canada', 'cuba', 'ecuador', 'el salvador', 'guyana', 'dominican republic', 'dominica', 'guatemala', 'brazil', 'argentina', 'jamaica', 'barbados', 'bahamas', 'honduras', 'belize', 'bolivia', 'haiti', 'mexico', 'americas']\n",
    "\n",
    "middle_class_set = set(countries_and_regions_middle_class_list)\n",
    "leaf_class_set = set(countries_and_regions_leaf_class_list)\n",
    "countries_and_regions_middle_class_correct_prediction_count = 0\n",
    "countries_and_regions_leaf_class_list_correct_prediction_count = 0"
   ]
  },
  {
   "cell_type": "code",
   "execution_count": 90,
   "metadata": {},
   "outputs": [],
   "source": [
    "# testing\n",
    "# first get all articles and get the middle and leaf class prediction based on the country_and_region_classifier above\n",
    "with open('data_with_middle_layer_and_label.json') as json_file:\n",
    "    data = json.load(json_file)"
   ]
  },
  {
   "cell_type": "code",
   "execution_count": 93,
   "metadata": {},
   "outputs": [],
   "source": [
    "for item in data:\n",
    "    item['middle_prediction'] = []\n",
    "    item['leaf_prediction'] = []\n",
    "    # get the body and tokenize it\n",
    "    sentence = item['body']\n",
    "    tokens = nltk.word_tokenize(sentence)\n",
    "    # conver to set\n",
    "    S2 = set(tokens)\n",
    "    # if the body has the same keyword in the keywordlist (in the classifier)\n",
    "    # make the prediction\n",
    "    for k,v in country_and_region_classifier.items():\n",
    "        S1 = set(v)\n",
    "        if( S1.intersection(S2) ):\n",
    "            item['middle_prediction'].append(k)\n",
    "            item['leaf_prediction'] = item['leaf_prediction'] + list(S1.intersection(S2))\n",
    "    \n",
    "    # check prediction\n",
    "    # first check middle prediction\n",
    "    \n",
    "    # if the prediction middle class belongs to the original middle_categories, then it has to be a correct prediction\n",
    "    S3 = set(item['middle_categories'])\n",
    "    S4 = set(item['middle_prediction'])\n",
    "    if( S4.issubset(S3) ):\n",
    "        countries_and_regions_middle_class_correct_prediction_count +=1\n",
    "    # if does not belong to but they both does not have intersection with countries_and_regions_middle_class_list, it is also a correct prediction\n",
    "    else:\n",
    "        if (not S3.intersection(middle_class_set)) and (not S4.intersection(middle_class_set)):\n",
    "            countries_and_regions_middle_class_correct_prediction_count +=1\n",
    "    \n",
    "    # check leaf node prediction\n",
    "    S5 = set(item['leaf_categories'])\n",
    "    S6 = set(item['leaf_prediction'])\n",
    "    \n",
    "    if( S6.issubset(S5) ):\n",
    "        countries_and_regions_leaf_class_list_correct_prediction_count +=1\n",
    "    else:\n",
    "        if (not S5.intersection(leaf_class_set)) and (not S6.intersection(leaf_class_set)):\n",
    "            countries_and_regions_leaf_class_list_correct_prediction_count +=1"
   ]
  },
  {
   "cell_type": "code",
   "execution_count": 94,
   "metadata": {},
   "outputs": [
    {
     "name": "stdout",
     "output_type": "stream",
     "text": [
      "{'title': 'Pricing to a human scale', 'url': 'https://www.business-humanrights.org/pricing-to-a-human-scale', 'body': \"Despite price cuts by some of the world's biggest pharmaceutical companies, a full course of Aids medication in Africa still costs at least $1,000 per person per year. And while the price cuts set a precedent for reducing medication costs, there is no sound principle behind such actions. The real question, therefore, is whether these actions are merely the outcome of a public relations ploy?\", 'companies': [], 'leaf_categories': ['Africa: General', 'Pharmaceutical', 'Access to medicines', 'HIV/AIDS'], 'middle_categories': ['Africa', 'Health'], 'middle_label': [0, 1, 0, 0, 0, 0, 0, 0, 0, 0, 0, 0, 0, 0, 0, 0, 0, 0, 0, 0, 0, 0, 0, 0, 0, 0, 0, 0, 0, 0, 0, 0, 0, 0, 0, 0, 0, 1, 0, 0, 0, 0, 0, 0, 0, 0, 0, 0, 0, 0, 0, 0, 0, 0, 0, 0, 0, 0, 0, 0, 0, 0, 0, 0, 0, 0, 0, 0, 0, 0, 0, 0, 0, 0, 0, 0, 0, 0, 0, 0, 0, 0, 0, 0, 0, 0, 0, 0, 0, 0, 0, 0, 0, 0, 0, 0, 0, 0, 0, 0, 0, 0], 'middle_prediction': ['Africa'], 'leaf_prediction': ['Africa']}\n"
     ]
    }
   ],
   "source": [
    "print(data[3])"
   ]
  },
  {
   "cell_type": "code",
   "execution_count": 97,
   "metadata": {
    "collapsed": true
   },
   "outputs": [],
   "source": [
    "N = len(data)"
   ]
  },
  {
   "cell_type": "code",
   "execution_count": 98,
   "metadata": {},
   "outputs": [
    {
     "name": "stdout",
     "output_type": "stream",
     "text": [
      "55326\n"
     ]
    }
   ],
   "source": [
    "print(N)"
   ]
  },
  {
   "cell_type": "code",
   "execution_count": 95,
   "metadata": {},
   "outputs": [
    {
     "name": "stdout",
     "output_type": "stream",
     "text": [
      "46233\n"
     ]
    }
   ],
   "source": [
    "print(countries_and_regions_middle_class_correct_prediction_count)"
   ]
  },
  {
   "cell_type": "code",
   "execution_count": 96,
   "metadata": {},
   "outputs": [
    {
     "name": "stdout",
     "output_type": "stream",
     "text": [
      "42851\n"
     ]
    }
   ],
   "source": [
    "print(countries_and_regions_leaf_class_list_correct_prediction_count)"
   ]
  },
  {
   "cell_type": "code",
   "execution_count": null,
   "metadata": {
    "collapsed": true
   },
   "outputs": [],
   "source": []
  }
 ],
 "metadata": {
  "kernelspec": {
   "display_name": "Python 3",
   "language": "python",
   "name": "python3"
  },
  "language_info": {
   "codemirror_mode": {
    "name": "ipython",
    "version": 3
   },
   "file_extension": ".py",
   "mimetype": "text/x-python",
   "name": "python",
   "nbconvert_exporter": "python",
   "pygments_lexer": "ipython3",
   "version": "3.6.1"
  }
 },
 "nbformat": 4,
 "nbformat_minor": 2
}
