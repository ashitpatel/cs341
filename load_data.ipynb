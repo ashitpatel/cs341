{
 "cells": [
  {
   "cell_type": "code",
   "execution_count": 1,
   "metadata": {
    "collapsed": true
   },
   "outputs": [],
   "source": [
    "import json"
   ]
  },
  {
   "cell_type": "code",
   "execution_count": 2,
   "metadata": {
    "collapsed": true
   },
   "outputs": [],
   "source": [
    "with open('parsed_data.json') as json_file:\n",
    "    data = json.load(json_file)"
   ]
  },
  {
   "cell_type": "code",
   "execution_count": 3,
   "metadata": {},
   "outputs": [
    {
     "name": "stdout",
     "output_type": "stream",
     "text": [
      "{'title': 'Finally, WTO to Open Debate on Patents and Low-Cost Drugs', 'url': 'https://www.business-humanrights.org/finally-wto-to-open-debate-on-patents-and-low-cost-drugs', 'body': \"The much-awaited debate on how international patent laws affect developing countries' access to medications begins Wednesday, Jun 20, at the World Trade Organisation (WTO), and the countries, corporations and civil society groups involved are putting the final touches on their arguments.\", 'companies': [], 'categories': ['Pharmaceutical', 'Health: General (including workplace health & safety)', 'Access to medicines', 'Intellectual property', 'WTO']}\n"
     ]
    }
   ],
   "source": [
    "print(data[0])"
   ]
  },
  {
   "cell_type": "code",
   "execution_count": 17,
   "metadata": {
    "scrolled": true
   },
   "outputs": [
    {
     "name": "stdout",
     "output_type": "stream",
     "text": [
      "{'title': 'The business response to HIV/AIDS: impact and lessons learned', 'url': 'https://www.business-humanrights.org/the-business-response-to-hivaids-impact-and-lessons-learned-0', 'body': '[Section 5, Profiles of business activities in response to HIV/AIDS, includes profiles of American International Assurance, Thailand; The Body Shop, Japan; Warsaw Marriott Hotel; Larsen and Toubro, India; Volkswagen do Brasil; Molson Breweries, Canada; Chevron Nigeria; Standard Chartered Bank, UK; International Hotel and Restaurant Association; Anglo Coal, South Africa; Eskom, South Africa; ALMS, Czech Republic; Teddy Exports, India; Bristol Myers Squibb, USA; The Shell Company of Thailand]', 'companies': ['Bristol-Myers Squibb', \"Body Shop (part of L'Oréal)\", 'Chevron', 'Eskom', 'Marriott', 'Molson (part of Molson Coors)', 'Shell', 'Standard Chartered', 'Teddy Exports', 'Volkswagen'], 'categories': ['Nigeria', 'South Africa', 'Brazil', 'Canada', 'USA', 'India', 'Japan', 'Thailand', 'Czech Republic', 'United Kingdom', 'Food & beverage', 'Cosmetics', 'Retail', 'Toiletries & soap', 'Finance & banking', 'Insurance', 'Pharmaceutical', 'Restaurants & bars', 'Oil, gas & coal', 'Automobile & other motor vehicles', 'Hotel', 'Health: General (including workplace health & safety)', 'Access to medicines', 'HIV/AIDS', 'Major reports & books', 'Support for initiatives promoting development/economic & social rights: General', 'UNAIDS']}\n",
      "{'title': 'Slavery reparations lawsuit (re USA)', 'url': 'https://www.business-humanrights.org/slavery-reparations-lawsuit-re-usa-0', 'body': \"Descendants of 19th-century African-American slaves filed nine lawsuits seeking reparations from corporations in various US federal courts during 2002. The plaintiffs alleged that the defendant corporations (financial, railroad, tobacco, insurance, and textile companies), or their predecessors, had ties to the trans-Atlantic slave trade and were unjustly enriched from the labour of African-American slaves. In October 2002, these lawsuits were consolidated into one class-action lawsuit. In 2004, the court dismissed the claim but allowed the plaintiffs to amend their complaint. The plaintiffs submitted an amended complaint making claims of intentional and negligent infliction of emotional distress, civil rights violations due to the denial of property rights and consumer fraud. In July 2005, the court again dismissed these claims. The opinion noted that these claims raised a political question , and therefore were beyond the scope of the federal judiciary. In addition, the court found that the plaintiffs did not have proper standing to bring the lawsuit against the named defendants and that the plaintiffs claims were precluded by the statute of limitations. In December 2006, the US Court of Appeals for the 7th Circuit reversed the dismissal of the plaintiffs consumer fraud claims, while upholding the dismissal of the balance of the plaintiffs claims. The court of appeals found that questions remained as to whether consumers were defrauded by the failure of the defendant companies to reveal their alleged collaboration with slavery. In May 2007, the plaintiffs petitioned the US Supreme Court to hear their appeal of the 2006 court of appeals decision. The Supreme Court denied the plaintiffs petition in October 2007, declining to hear the case.- A Federal Court of Appeals Revives a Class Action Seeking Compensation for Slavery in America , Anthony Sebok, Findlaw s Writ, 19 Dec 2006- Most of slavery reparations suit thrown out , Mike Robinson, Associated Press, 14 Dec 2006- Slave descendants attempt to revive reparations lawsuit against 17 insurers and banks , Associated Press, 27 Sep 2006- The Lawsuit Brought by African-Americans Seeking Compensation from Corporations for The Wrongs of Slavery: Why the Opinion Dismissing the Suit Is Unpersuasive , Anthony Sebok, Findlaw s Writ, 8 Aug 2005- Slave reparations case dismissed , Associated Press, 26 Jan 2004- Federal Lawsuit Seeks Slave Reparations from Three Companies , William Baue, Social Funds, 18 Apr 2002- National Legal and Policy Center: [PDF] The Case Against Slave Reparations, Peter Flaherty and John Carlisle, 25 Oct 2004- CSX: Statement in Response to Demands for Financial Reparations, 16 Aug 2002- Aetna: Statement Regarding Slavery Reparations Lawsuit, 27 Mar 2002- Plaintiffs press release: Slave Descendant Takes Reparations Case to the United States Supreme Court , 23 May 2007- [PDF] Corporate Restitution for Slavery: Plaintiff and Defendant Information, Deadria C. Farmer-Paellmann [plaintiff]US Court of Appeals for the 7th Circuit: In re African-American Slave Descendants Litigation:- Decision reversing the lower court s dismissal in part and affirming the dismissal in part, 13 Dec 2006 - briefs by plaintiffs and defendants are here- MP3 audio of oral argument is hereUS District Court for the Northern District of Illinois:- In re African-American Slave Descendants Litigation, 6 Jul 2005 [opinion dismissing plaintiffs claims]- [PDF] In re African-American Slave Descendants Litigation - Defendants' Joint Motion to Dismiss, 18 Jul 2003- [PDF] Farmer-Paellmann v. FleetBoston et al. - First Consolidated and Amended Complaint and Jury Demand, 16 Jun 2003US District Court for the Eastern District of New York- [PDF] Farmer-Paellmann v. FleetBoston et al. - Complaint, 26 Mar 2002\", 'companies': ['Aetna', 'Bank of America', 'Brown & Williamson (now Reynolds American)', 'CSX', 'Fleet (part of Bank of America)', 'JPMorgan Chase', 'Lehman Brothers', 'Liggett (part of Vector Group)', \"Lloyd's of London\", 'Loews', 'New York Life', 'Norfolk Southern', 'Reynolds American', 'RJ Reynolds (part of Reynolds American)', 'Union Pacific', 'Westpoint Stevens'], 'categories': ['Lawsuits & regulatory action: General', 'Companies & historical slavery', 'Finance & banking', 'Forced labour & modern slavery', 'Insurance', 'Racial/ethnic/caste/origin discrimination', 'Railroad', 'USA']}\n"
     ]
    }
   ],
   "source": [
    "# filter two articles of specified tag\n",
    "count = 0\n",
    "str = 'Insurance'\n",
    "for x in data:\n",
    "    if str in x['categories']:\n",
    "        if count < 2:\n",
    "            print(x)\n",
    "        count = count+1"
   ]
  },
  {
   "cell_type": "code",
   "execution_count": 4,
   "metadata": {
    "collapsed": true
   },
   "outputs": [],
   "source": [
    "f=open(\"data.pos\", \"a+\")"
   ]
  },
  {
   "cell_type": "code",
   "execution_count": 5,
   "metadata": {
    "collapsed": true
   },
   "outputs": [],
   "source": [
    "for x in data:\n",
    "    f.write(x['body'])\n",
    "    f.write('\\n')"
   ]
  },
  {
   "cell_type": "code",
   "execution_count": 6,
   "metadata": {
    "collapsed": true
   },
   "outputs": [],
   "source": [
    "f.close()"
   ]
  },
  {
   "cell_type": "code",
   "execution_count": null,
   "metadata": {
    "collapsed": true
   },
   "outputs": [],
   "source": []
  }
 ],
 "metadata": {
  "kernelspec": {
   "display_name": "Python 3",
   "language": "python",
   "name": "python3"
  },
  "language_info": {
   "codemirror_mode": {
    "name": "ipython",
    "version": 3
   },
   "file_extension": ".py",
   "mimetype": "text/x-python",
   "name": "python",
   "nbconvert_exporter": "python",
   "pygments_lexer": "ipython3",
   "version": "3.6.1"
  }
 },
 "nbformat": 4,
 "nbformat_minor": 2
}
