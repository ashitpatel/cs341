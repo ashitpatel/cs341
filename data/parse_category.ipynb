{
 "cells": [
  {
   "cell_type": "code",
   "execution_count": 33,
   "metadata": {
    "collapsed": true
   },
   "outputs": [],
   "source": [
    "import json"
   ]
  },
  {
   "cell_type": "code",
   "execution_count": 34,
   "metadata": {
    "collapsed": true
   },
   "outputs": [],
   "source": [
    "new_data = []"
   ]
  },
  {
   "cell_type": "code",
   "execution_count": 35,
   "metadata": {
    "collapsed": true
   },
   "outputs": [],
   "source": [
    "with open('categories.json') as json_file:\n",
    "    data = json.load(json_file)"
   ]
  },
  {
   "cell_type": "code",
   "execution_count": 36,
   "metadata": {
    "collapsed": true
   },
   "outputs": [],
   "source": [
    "count = 0"
   ]
  },
  {
   "cell_type": "code",
   "execution_count": 37,
   "metadata": {},
   "outputs": [],
   "source": [
    "for item in data['results']:\n",
    "    for sub_item in item['below']:\n",
    "        count+=1\n",
    "        each_item={}\n",
    "        str1 = sub_item['name']\n",
    "        each_item[str1] = []\n",
    "        for sub_sub_item in sub_item['below']:\n",
    "            each_item[str1].append(sub_sub_item['name'])\n",
    "        new_data.append(each_item)\n",
    "    "
   ]
  },
  {
   "cell_type": "code",
   "execution_count": 38,
   "metadata": {},
   "outputs": [
    {
     "name": "stdout",
     "output_type": "stream",
     "text": [
      "[{'Overview': ['General business & human rights']}, {'Abuses': ['Abduction', 'Arbitrary detention', 'Beatings & violence', 'Complicity', 'Death penalty', 'Death threats', 'Deaths', 'Denial of freedom of expression', 'Denial of freedom of movement', '\"Disappearances\"', 'Displacement', 'Genocide', 'Human trafficking', 'Injuries', 'Intimidation & threats', 'Killings', 'Rape & sexual abuse', 'Sexual harassment', 'Slavery', 'Torture & ill-treatment', 'Unfair trial']}, {'Development & poverty': ['Poverty/Development/Economic & social rights: General', 'Linking development & human rights']}, {'Discrimination': ['Discrimination/diversity: General', 'Age discrimination', 'Disability discrimination', 'Gender discrimination', 'HIV/AIDS discrimination', 'Marital status discrimination', 'Political opinion discrimination', 'Pregnancy discrimination', 'Racial/ethnic/caste/origin discrimination', 'Religious discrimination', 'Sexual orientation & gender identity (LGBT) discrimination']}, {'Environment': ['Environment: General', 'Climate change', 'Environmental discrimination', 'Why environmental issues are human rights issues']}, {'Groups': ['Castes', 'Children (issues other than child labour)', 'Family', 'Fathers/Paternity', 'Lesbian, gay, bisexual & transgender (LGBT) people', 'Indigenous peoples', 'Men', 'Migrant & immigrant workers', 'Mothers/Maternity', 'Pregnant women', 'Racial & ethnic groups', 'Women', 'Refugees']}, {'Health': ['Health: General (including workplace health & safety)', 'Access to medicines', 'Health as a human right', 'HIV/AIDS', 'Illness', 'Mental health']}, {'Investment, trade, globalisation': ['Intl. investment agreements & policy', 'Export regulations/Export credit agencies', 'Globalisation', 'Divestment', 'Import regulations', 'Project financing/loans', 'Sanctions', 'Socially-responsible investing & shareholder activism', 'Trade']}, {'Labour': ['Gig Economy', 'Freedom of association', 'Prison labour', 'Export processing zones', 'Forced labour & modern slavery', 'Labour: General', 'Living wage', 'Child labour']}, {'Security': ['Security issues & conflict zones: General', 'Conflict prevention & resolution']}, {'Universality': ['Universality of human rights: General', 'Islam & human rights', '\"Asian values\"']}, {'Other': ['Access to information', 'Access to water', 'Censorship', 'Certification', 'Complaints mechanism', 'Consumers', 'Corruption', 'Cultural issues', 'Digital divide', 'Disclosure/use of payments to govts.', 'Education', 'Free, prior & informed consent', 'Genetically-modified food/crops', 'Housing', 'Impact assessment', 'Intellectual property', 'Land rights', 'Microcredit', 'Monitoring', 'Privacy', 'Privatisation', 'Procurement', 'Protests', 'Religion: General', 'Reputation', 'Right to food', 'Supply chains', 'Surveillance', 'Tax avoidance']}, {'Middle East & No. Africa': ['Global', 'Middle East & No. Africa: General', 'Algeria', 'Bahrain', 'Egypt', 'Lebanon', 'Libya', 'Morocco / Western Sahara', 'Kuwait', 'Jordan', 'Iran', 'Iraq', 'Israel & Occupied Palestinian Territories', 'Oman', 'Qatar', 'Saudi Arabia', 'Syria', 'Tunisia', 'United Arab Emirates', 'Yemen']}, {'Africa': ['Africa: General', 'Angola', 'Benin', 'Botswana', 'Burkina Faso', 'Burundi', 'Cameroon', 'Cape Verde', 'Central African Republic', 'Chad', 'Comoros', 'Congo - Democratic Republic of', 'Congo - Republic of', \"CÃ´te d'Ivoire\", 'Djibouti', 'Equatorial Guinea', 'Eritrea', 'Ethiopia', 'Gabon', 'Gambia', 'Ghana', 'Guinea-Bissau', 'Guinea', 'Kenya', 'Lesotho', 'Liberia', 'Madagascar', 'Malawi', 'Mali', 'Mauritania', 'Mauritius', 'Mozambique', 'Namibia', 'Niger', 'Nigeria', 'Rwanda', 'SÃ£o TomÃ© & Principe', 'Senegal', 'Seychelles', 'Sierra Leone', 'Somalia', 'South Africa', 'South Sudan', 'Sudan', 'Swaziland', 'Tanzania', 'Togo', 'Uganda', 'Zambia', 'Zimbabwe']}, {'Asia & Pacific': ['Asia & Pacific: General', 'Afghanistan', 'Australia', 'Bangladesh', 'Bhutan', 'Brunei', 'Burma (see Myanmar)', 'Cambodia', 'China', 'Cook Islands', 'East Timor', 'Fiji', 'India', 'Indonesia', 'Japan', 'Kiribati', 'Laos', 'Malaysia', 'Maldives', 'Marshall Islands', 'Mongolia', 'Philippines', 'Papua New Guinea', 'New Zealand', 'North Korea', 'Nepal', 'Nauru', 'Myanmar', 'Pakistan', 'Palau', 'Samoa', 'Singapore', 'Solomon Islands', 'South Korea', 'Sri Lanka', 'Taiwan', 'Thailand', 'Tuvalu', 'Tonga', 'Vanuatu', 'Vietnam']}, {'Europe & Central Asia': ['Europe & Central Asia: General', 'Slovak Republic', 'Slovenia', 'Spain', 'Sweden', 'Serbia', 'Russia', 'Norway', 'Poland', 'Portugal', 'Romania', 'Switzerland', 'Tajikistan', 'Vatican', 'Yugoslavia', 'Uzbekistan', 'United Kingdom', 'Turkey', 'Turkmenistan', 'Ukraine', 'Netherlands', 'Montenegro', 'France', 'Georgia', 'Germany', 'Greece', 'Finland', 'Cyprus', 'Czech Republic', 'Denmark', 'Estonia', 'Hungary', 'Iceland', 'Lithuania', 'Macedonia', 'Malta', 'Moldova', 'Latvia', 'Kyrgyzstan', 'Ireland', 'Italy', 'Kazakhstan', 'Croatia', 'Luxembourg', 'Bulgaria', 'Armenia', 'Albania', 'Bosnia & Herzegovina', 'Austria', 'Azerbaijan', 'Belarus', 'Belgium']}, {'Americas': ['Americas: General', 'Suriname', 'Trinidad & Tobago', 'Saint Lucia', 'Peru', 'Paraguay', 'Uruguay', 'Venezuela', 'Panama', 'USA', 'Nicaragua', 'Costa Rica', 'Colombia', 'Chile', 'Canada', 'Cuba', 'Ecuador', 'El Salvador', 'Guyana', 'Dominican Republic', 'Dominica', 'Guatemala', 'Brazil', 'Argentina', 'Jamaica', 'Barbados', 'Bahamas', 'Honduras', 'Belize', 'Bolivia', 'Haiti', 'Mexico']}, {'Consumer products/retail': ['Battery', 'Ceramics', 'Cookware', 'Cosmetics', 'Bakeries', 'Baby product', 'Department stores', 'Electrical appliance', 'Match', 'Memorabilia/collectibles', 'Musical instrument', 'Newsagents', 'Luggage, backpacks & bags', 'Jewellery', 'Greeting card & gift-wrap', 'Handcrafts', 'Household products', 'Office equipment', 'Office supplies & stationery', 'Toiletries & soap', 'Toy', 'Watch & clock', 'Wholesale', 'Tableware', 'Supermarkets & grocery', 'Perfume', 'Photographic', 'Retail', 'Wigs']}, {'Commercial sex & pornography': ['Pornography', 'Prostitution & sex trafficking']}, {'Conglomerates': ['Diversified/Conglomerates']}, {'Construction & building materials': ['Road-building', 'Tool', 'Welding', 'Insulation', 'Heating & boilers', 'Construction', 'Construction machinery & vehicles', 'Dam-building', 'Flooring', 'Cement', 'Building materials & equipment', 'Air conditioning', 'Asbestos', 'Brick']}, {'Leisure': ['Amusement park', 'Boat & yacht', 'Entertainment', 'Restaurants & bars', 'Nightclubs', 'Fireworks', 'Gambling', 'Lottery']}, {'Health': ['Pharmaceutical', 'Pharmacies', 'Medical equipment/supplies', 'Health care', 'Biotechnology', 'Drug-testing']}, {'Manufacturing': ['Machine & machine tools', 'Manufacturing: General']}, {'Media/publishing': ['Media & publishing: General']}, {'Finance': ['Finance & banking', 'Insurance', 'Stock exchanges']}, {'Garden/landscaping': ['Gardening & landscaping', 'Garden supply']}, {'Furnishings': ['Furniture', 'Lighting & light bulb', 'Wallpaper', 'Carpet & rug']}, {'Chemical': ['Refrigerant', 'Pesticide', 'Fertiliser', 'Industrial gases', 'Ink', 'Paint', 'Ethanol', 'Dye', 'Adhesives & glue', 'Chemical: General', 'Cleaning products']}, {'Apparel & textile': ['Leather & tanneries', 'Footwear', 'Clothing & textile']}, {'Agriculture/food/beverage/tobacco/fishing': ['Palm trees & oil', 'Salt', 'Slaughterhouses', 'Sugar', 'Food & beverage', 'Flower', 'Canneries', 'Chocolate & cocoa', 'Coffee', 'Fishing', 'Tea', 'Tobacco', 'Wineries', 'Candy', 'Biofuels', 'Agricultural machinery', 'Agriculture & livestock', 'Baby food & baby milk']}, {'Metals/plastics/basic materials': ['Soda ash', 'Rubber', 'Plastics', 'Fiberglass', 'Foam', 'Glass', 'Metals & steel']}, {'Utilities': ['Wind energy', 'Water companies', 'Energy', 'Nuclear energy', 'Waste disposal']}, {'Safety/environment': ['Environmental equipment', 'Fire extinguisher']}, {'Real estate': ['Property development', 'Property management', 'Real estate sales']}, {'Services': ['Cleaning & maintenance', 'Dating agencies', 'Domestic worker agencies', 'Education companies', 'Catering & food services', 'Call centre', 'Auto repair & maintenance', 'Beauty schools', 'Recruitment agencies', 'Funeral', 'Security companies', 'Storage', 'Prison companies', 'Printing & copying', 'Hairdressing', 'Laundries & dry cleaners', 'Moving']}, {'Professional Services': ['Public relations', 'Architects', 'Auditing, consulting & accounting', 'Engineering', 'Law firms', 'Advertising & marketing']}, {'Military/weapons/security equipment': ['Arms/Weapons', 'Military/defence', 'Restraints']}, {'Natural resources': ['Paper & cardboard', 'Petrol stations', 'Sand', 'Stone quarries', 'Oil, gas & coal', 'Mining', 'Cork', 'Diamond', 'Logging & lumber']}, {'Transport': ['Airports', 'Auto parts', 'Auto rental', 'Auto wrecking & salvage', 'Aircraft/Airline', 'Automobile & other motor vehicles', 'Bicycle', 'Tire', 'Transport: General', 'Taxi', 'Snowmobile', 'Bus', 'Ferry', 'Railroad']}, {'Technology': ['Artificial Intelligence (AI)', 'Automation', 'Internet & social media', 'Technology, telecom & electronics']}, {'Travel': ['Tourism', 'Hotel', 'Cruise ship']}, {'Shipping & handling': ['Express delivery', 'Forklift', 'Freight handling', 'Trucking', 'Shipping, ship-building & ship-scrapping', 'Packaging', 'Ports', 'Postal services']}, {'Sports': ['Sports teams, clubs & leagues', 'Sporting goods', 'Ski resorts', 'Fitness clubs & gyms', 'Golf courses', 'Race courses']}, {'Lawsuits & regulatory action': ['Alien Tort Claims Act (USA)', 'Lawsuits & regulatory action: General', 'Lawsuits: Selected cases']}, {'Judicial system': []}, {'Arbitration': []}, {'Legal accountability': ['Legal accountability: General', '\"Beyond Voluntarism\" report']}, {'UN Framework Convention on Climate Change (UNFCCC)': []}, {'ILO instruments': []}, {'ILO Tripartite Declaration': []}, {'ILO Declaration on fundamental principles & rights at work': []}, {'Guidelines prepared by NGOs': []}, {'Guidelines prepared by business': []}, {'Guidelines prepared by judges': []}, {'Intl. Code of Conduct for Private Security Service Providers (ICoC)': []}, {'Intl. standards: General': []}, {'Other guidelines': []}, {'UN General Comment on child rights and business sector': []}, {'OECD Guidelines': []}, {'Montreux Document': []}, {'Kimberley Process': []}, {'Guidelines prepared by a govt': []}, {'Global Reporting Initiative': []}, {\"Children's Rights and Business Principles\": []}, {'Core intl.  standards': []}, {'Geneva Conventions / Humanitarian law': []}, {'Global Network Initiative': []}, {'Extractive Industries Transparency Initiative (EITI)': []}, {'European Parliament code of conduct': []}, {'Equator Principles': []}, {'UN Global Compact': []}, {'UN Guiding Principles on Business & Human Rights': []}, {'UN Sub-Commission Norms on business & human rights': ['UN Sub-Commission Norms: General', 'UN Sub-Commission Norms: Key commentaries']}, {'UN Principles for Responsible Investment': []}, {'UN Sustainable Development Goals / Millennium Development Goals': []}, {'Universal Declaration of Human Rights': []}, {'Voluntary Principles on Security & Human Rights': []}, {'Guidance': []}, {'Company advances on human rights': []}, {'Reporting': ['Company reporting: General', 'Selected company reports']}, {'Steps to promote rights in wider society': ['Raising human rights issues with govts.', 'Support for initiatives promoting civil & political rights', 'Support for initiatives promoting development and economic/social rights']}, {'Policies': ['Company policies: General', 'Codes of conduct (corporate)', 'Companies with human rights policies']}, {'Training': ['Training managers & employees']}, {'Other': ['Statements by business people', 'Profitability & human rights', 'Company boards', 'Company implementation', 'Employees', 'Global Business Initiative on Human Rights', 'CEOs', 'Business Leaders Initiative on Human Rights (BLIHR)']}, {'Intl. finance/trade orgs.': ['Asian Infrastructure Investment Bank (AIIB)', 'WTO', 'World Bank', 'UNCTAD', 'African Development Bank', 'APEC', 'Asian Development Bank', 'CAFTA', 'European Bank for Reconstruction and Development', 'Mercosur', 'Multilateral Investment Guarantee Agency (MIGA)', 'NAFTA', 'OECD', 'Inter-American Development Bank', 'IMF', 'European Investment Bank', 'FTAA', 'IFC']}, {'Red Cross & Red Crescent': ['Intl. Committee of the Red Cross', 'Intl. Federation of Red Cross & Red Crescent Societies', 'Swiss govt. & ICRC initiative on private military & security cos.']}, {'UN & intergovernmental orgs.': ['ASEAN', 'Commonwealth', 'Council of Europe', 'African Union', 'OAS', 'UN', 'Intl. Criminal Court', 'ILO', 'European Union', 'G7', 'WHO', 'WIPO']}, {'Natl. business orgs. (cross-sectoral)': ['Industrial Energy Consumers of America (IECA)', 'AsociaciÃ³n Nacional de Empresarios de Colombia (ANDI)', \"BDA (Confederation of German Employers' Associations)\", 'BDI (Federation of German Industry)', 'Confed. of British Industry (CBI)', 'Confed. of Danish Industries', 'Mouvement des Entreprises de France (MEDEF)', 'Nippon Keidanren (Japan Business Federation)', 'U.S. Chamber of Commerce', 'United States Council for Intl. Business (USCIB)', 'Korea Chamber of Commerce and Industry', 'Indonesian Chamber of Commerce & Industry (KADIN)', 'Confed. of Indian Industry (CII)', 'Confed. of Norwegian Business and Industry (NHO)', 'ConfÃ©dÃ©ration GÃ©nÃ©rale des Entreprises du Maroc (CGEM)', 'Conference Board of Canada']}, {'Intl. business orgs. (cross-sectoral)': ['US-China Business Council', 'Intl. Org. of Employers (IOE)', 'Intl. Chamber of Commerce (ICC)', 'American Chamber of Commerce in Shanghai', 'Conference Board', 'European Union Chamber of Commerce in China']}, {'Sectoral business orgs.': ['American Chemistry Council', 'International Stability Operations Association (ISOA)', 'Mining Association of Canada', 'National Coffee Association of USA', 'Pharmaceutical Research and Manufacturers of America (PhRMA)', 'International Federation of Pharmaceutical Manufacturers & Associations (IFPMA)', 'International Council on Mining & Metals (ICMM)', 'American Petroleum Institute', 'British Association of Private Security Companies (BAPSC)', 'Cefic (European Chemical Industry Council)', 'International Council of Toy Industries (ICTI)', 'Responsible Jewellery Council', 'World Diamond Council']}, {'Thematic business orgs.': ['Global Business Coalition on HIV/AIDS, Tuberculosis & Malaria', 'National business coalitions on HIV/AIDS']}, {'Local & state authorities': []}, {'National human rights institutions (NHRI)': []}, {'Job postings': []}, {'Publications': ['Calls for contributions to publications', 'Major reports & books']}, {'Ratings & indexes': ['Top 50 Companies for Diversity (USA)', 'Workplace Equality Index (UK)', 'Ratings & indexes: General', 'HRC Corporate Equality Index (USA)', 'FTSE4Good Ibex (Spain)', 'FTSE4Good', 'Dow Jones Sustainability Indexes', 'Best Companies for Minorities (USA)', 'Corporate Responsibility Index (UK)', '100 Best Corporate Citizens (USA)']}, {'Historical': ['Companies & World War II', 'Business during apartheid', 'Companies & historical slavery']}, {'Awards': []}, {'Conferences & events': ['Conferences & events schedule', 'Conferences & events: General', 'World Summit on Sustainable Development', 'World Social Forum', 'World Economic Forum', 'Calls for contributions to conferences & events']}, {'Courses': ['Courses: General', 'Business schools']}, {'Myanmar Foreign Investment Tracking Project responses': []}]\n"
     ]
    }
   ],
   "source": [
    "print(new_data)"
   ]
  },
  {
   "cell_type": "code",
   "execution_count": 39,
   "metadata": {},
   "outputs": [
    {
     "name": "stdout",
     "output_type": "stream",
     "text": [
      "102\n"
     ]
    }
   ],
   "source": [
    "print(len(new_data))"
   ]
  },
  {
   "cell_type": "code",
   "execution_count": 40,
   "metadata": {},
   "outputs": [
    {
     "name": "stdout",
     "output_type": "stream",
     "text": [
      "102\n"
     ]
    }
   ],
   "source": [
    "print(count)"
   ]
  },
  {
   "cell_type": "code",
   "execution_count": 41,
   "metadata": {
    "collapsed": true
   },
   "outputs": [],
   "source": [
    "with open('middle_leaf_map.json','w') as file:\n",
    "    json.dump(new_data,file)"
   ]
  },
  {
   "cell_type": "code",
   "execution_count": 59,
   "metadata": {},
   "outputs": [
    {
     "name": "stdout",
     "output_type": "stream",
     "text": [
      "Labour\n"
     ]
    }
   ],
   "source": [
    "for item in new_data:\n",
    "    for i,j in item.items():\n",
    "        if 'Freedom of association' in j:\n",
    "            print(i)"
   ]
  },
  {
   "cell_type": "code",
   "execution_count": null,
   "metadata": {
    "collapsed": true
   },
   "outputs": [],
   "source": []
  },
  {
   "cell_type": "code",
   "execution_count": 51,
   "metadata": {
    "collapsed": true
   },
   "outputs": [],
   "source": [
    "new_parsed_data = []"
   ]
  },
  {
   "cell_type": "code",
   "execution_count": 45,
   "metadata": {},
   "outputs": [],
   "source": [
    "# add one more attribute (middle layer) to the dataset\n",
    "with open('parsed_data.json') as json_file:\n",
    "    data = json.load(json_file)"
   ]
  },
  {
   "cell_type": "code",
   "execution_count": 60,
   "metadata": {},
   "outputs": [],
   "source": [
    "for x in data:\n",
    "    if not x['categories'] or not x['body']:\n",
    "        continue\n",
    "    each_data = {}\n",
    "    each_data['title'] = x['title']\n",
    "    each_data['url'] = x['url']\n",
    "    each_data['body'] = x['body']\n",
    "    each_data['companies'] = x['companies']\n",
    "    each_data['leaf_categories'] = x['categories']\n",
    "    each_data['middle_categories'] = []\n",
    "    \n",
    "    # loop over all leaf categories\n",
    "    temp_set = set()\n",
    "    for item in x['categories']:\n",
    "        for category in new_data:\n",
    "            for i,j in category.items():\n",
    "                if item in j:\n",
    "                    temp_set.add(i)\n",
    "    each_data['middle_categories'] = list(temp_set)\n",
    "        \n",
    "    new_parsed_data.append(each_data)"
   ]
  },
  {
   "cell_type": "code",
   "execution_count": 49,
   "metadata": {},
   "outputs": [
    {
     "name": "stdout",
     "output_type": "stream",
     "text": [
      "{'title': 'Finally, WTO to Open Debate on Patents and Low-Cost Drugs', 'url': 'https://www.business-humanrights.org/finally-wto-to-open-debate-on-patents-and-low-cost-drugs', 'body': \"The much-awaited debate on how international patent laws affect developing countries' access to medications begins Wednesday, Jun 20, at the World Trade Organisation (WTO), and the countries, corporations and civil society groups involved are putting the final touches on their arguments.\", 'companies': [], 'categories': ['Pharmaceutical', 'Health: General (including workplace health & safety)', 'Access to medicines', 'Intellectual property', 'WTO']}\n"
     ]
    }
   ],
   "source": [
    "print(data[0])"
   ]
  },
  {
   "cell_type": "code",
   "execution_count": 61,
   "metadata": {},
   "outputs": [
    {
     "name": "stdout",
     "output_type": "stream",
     "text": [
      "55326\n"
     ]
    }
   ],
   "source": [
    "print(len(new_parsed_data))"
   ]
  },
  {
   "cell_type": "code",
   "execution_count": 63,
   "metadata": {},
   "outputs": [
    {
     "name": "stdout",
     "output_type": "stream",
     "text": [
      "{'title': 'Finally, WTO to Open Debate on Patents and Low-Cost Drugs', 'url': 'https://www.business-humanrights.org/finally-wto-to-open-debate-on-patents-and-low-cost-drugs', 'body': \"The much-awaited debate on how international patent laws affect developing countries' access to medications begins Wednesday, Jun 20, at the World Trade Organisation (WTO), and the countries, corporations and civil society groups involved are putting the final touches on their arguments.\", 'companies': [], 'leaf_categories': ['Pharmaceutical', 'Health: General (including workplace health & safety)', 'Access to medicines', 'Intellectual property', 'WTO'], 'middle_categories': ['Other', 'Intl. finance/trade orgs.', 'Health']}\n"
     ]
    }
   ],
   "source": [
    "print(new_parsed_data[0])"
   ]
  },
  {
   "cell_type": "code",
   "execution_count": null,
   "metadata": {
    "collapsed": true
   },
   "outputs": [],
   "source": []
  }
 ],
 "metadata": {
  "kernelspec": {
   "display_name": "Python 3",
   "language": "python",
   "name": "python3"
  },
  "language_info": {
   "codemirror_mode": {
    "name": "ipython",
    "version": 3
   },
   "file_extension": ".py",
   "mimetype": "text/x-python",
   "name": "python",
   "nbconvert_exporter": "python",
   "pygments_lexer": "ipython3",
   "version": "3.6.1"
  }
 },
 "nbformat": 4,
 "nbformat_minor": 2
}
