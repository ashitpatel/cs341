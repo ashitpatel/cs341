{
 "cells": [
  {
   "cell_type": "code",
   "execution_count": 4,
   "metadata": {
    "collapsed": true
   },
   "outputs": [],
   "source": [
    "doc1 = \"Multinational companies face a growing risk of being associated with human rights violations, according to research published in London yesterday by Amnesty International and the Prince of Wales International Business Leaders Forum. The research examines the operations of 129 leading companies in 34 countries where human rights abuses including torture, forced child labour and denial of freedom of expression occur.\"\n",
    "doc2 = \"Britain's major chocolate-makers have endorsed an initiative to phase out slavery and child labour in cocoa plantations in West Africa...Industry associations, whose members include Cadbury Schweppes, Mars and Nestl , signed an agreement with the International Labour Organisation this month to persuade cocoa-growers to eliminate illegal labour practices by 2005.\"\n",
    "doc3 = \"AIDS Law Project at Wits University Centre for Applied Legal Studies addresses HIV/AIDS issues, including employment-related issues\"\n",
    "doc4 = \"Parties to the U.N. Framework Convention on Climate Change plan to meet in Marrakech, Morocco, at the end of this month to finalize the procedures and institutions needed to make the Kyoto Protocol fully operational, the UNFCCC secretariat announced Tuesday.\"\n",
    "doc5 = \"On 17 August 2010, Statoil's Human Rights Advisor filed a lawsuit against the company alleging the company had made false promises and misrepresentations about the Human Rights Advisor position, which she had relied on in accepting the job and forgoing another opportunity. Specifically, she alleged that: (1) she was assured the job would involve the chance to develop and implement human rights policies for the company s overseas operations, including the implementation of human rights risk assessments (HRRAs); and (2) she was assured that the job was more than a public relations role. After working at her job for a year, the plaintiff claimed that the majority of her duties consisted of external public relations matters, and claimed that her attempts to implement HRRAs and human rights training programmes for the company s overseas business operations were thwarted by her superiors. She alleged that the corporate structure of Statoil made it impossible for her to implement the human rights policies she thought she was hired to develop and institute. The plaintiff also claimed that her working environment became extremely stressful and impacted her health.The lawsuit was filed in US federal court in California. The plaintiff claimed she was subject to fraud and deceit and that the company breached California labour law. Statoil responded to the allegations by rejecting them as unfounded and incorrect . Statoil further stated that it takes its human rights responsibilities very seriously. In October 2012 the lawsuit was dismissed after the parties reached an out-of-court settlement. - Lov og rett i Statoil ASA [ Law and Justice at Statoil ], Simen S tre, Morgenbladet [Norway], 3 Sep 2010 [available in Norwegian only]- Til sak mot Statoil [ An action against Statoil ], Kristin Jonassen Nordby, Aftenposten [Norway], 3 Sep 2010 [available in Norwegian only]- Jeg ble syk av jobbe i Statoil [ I got sick from working for Statoil ], Toril Risholm, Aftenbladet [Norway], 1 Sep 2010 [available in Norwegian only]- Statoil tilbakeviser alle p stander [ Statoil refutes all allegations ], Aftenbladet [Norway], 1 Sep 2010 [available in Norwegian only] - Statoil: [DOC] Statement by Statoil Re: Human rights advisor sues Norwegian oil company over false representations about its commitment to respecting human rights, 24 Aug 2010- Paul Hoffman and Michael Seplow [counsel for plaintiff]: [PDF] Human Rights Advisor Sues Norwegian Oil Company Over False Rrepresentations About its Commitment to Respecting Human Rights , 17 Aug 2010 - [PDF] Complaint for Damages, in US District Court, Northern District of California, 17 Aug 2010\"\n",
    "doc6 = \"Multinational companies face a growing risk of being associated with human rights violations, according to research published in London yesterday by Amnesty International and the Prince of Wales International Business Leaders Forum. The research examines the operations of 129 leading companies in 34 countries where human rights abuses including torture, forced child labour and denial of freedom of expression occur.\"\n",
    "doc7 = \"[summary of report's findings:]...[The] adoption of voluntary CSR policies by Canadian oil, gas, mining and exploration companies with international interests is remarkably low. Among the companies that have adopted CSR policies, a significant majority are creating their own sets of principles which may not have independent evaluation mechanisms. Companies which do have formal policies have experienced positive outcomes which should make implementing a CSR policy a prudent business decision. Within the industry, adherence to recognized international frameworks is inordinatelylow...\"\n",
    "doc8 = \"[Section 5, Profiles of business activities in response to HIV/AIDS, includes profiles of American International Assurance, Thailand; The Body Shop, Japan; Warsaw Marriott Hotel; Larsen and Toubro, India; Volkswagen do Brasil; Molson Breweries, Canada; Chevron Nigeria; Standard Chartered Bank, UK; International Hotel and Restaurant Association; Anglo Coal, South Africa; Eskom, South Africa; ALMS, Czech Republic; Teddy Exports, India; Bristol Myers Squibb, USA; The Shell Company of Thailand]\"\n",
    "doc9 = \"El Salvador's El Diario de Hoy reported yesterday that the International Labor Organization said it is making progress in efforts to assist an estimated 265,000 child laborers in the country, 30,000 of whom participate in the worst forms of child labor. The ILO said child participation in such industries as fishing, cane and fireworks production and garbage collection has declined in several Salvadoran regions.\"\n",
    "doc10 = \"[Section 5, Profiles of business activities in response to HIV/AIDS, includes profiles of American International Assurance, Thailand; The Body Shop, Japan; Warsaw Marriott Hotel; Larsen and Toubro, India; Volkswagen do Brasil; Molson Breweries, Canada; Chevron Nigeria; Standard Chartered Bank, UK; International Hotel and Restaurant Association; Anglo Coal, South Africa; Eskom, South Africa; ALMS, Czech Republic; Teddy Exports, India; Bristol Myers Squibb, USA; The Shell Company of Thailand]\""
   ]
  },
  {
   "cell_type": "code",
   "execution_count": 5,
   "metadata": {
    "collapsed": true
   },
   "outputs": [],
   "source": [
    "# compile documents\n",
    "doc_complete = [doc1, doc2, doc3, doc4, doc5,doc6,doc7,doc8,doc9,doc10]"
   ]
  },
  {
   "cell_type": "code",
   "execution_count": 6,
   "metadata": {
    "collapsed": true
   },
   "outputs": [],
   "source": [
    "from nltk.corpus import stopwords \n",
    "from nltk.stem.wordnet import WordNetLemmatizer\n",
    "import string\n",
    "stop = set(stopwords.words('english'))\n",
    "exclude = set(string.punctuation) \n",
    "lemma = WordNetLemmatizer()"
   ]
  },
  {
   "cell_type": "code",
   "execution_count": 7,
   "metadata": {
    "collapsed": true
   },
   "outputs": [],
   "source": [
    "def clean(doc):\n",
    "    stop_free = \" \".join([i for i in doc.lower().split() if i not in stop])\n",
    "    punc_free = ''.join(ch for ch in stop_free if ch not in exclude)\n",
    "    normalized = \" \".join(lemma.lemmatize(word) for word in punc_free.split())\n",
    "    return normalized"
   ]
  },
  {
   "cell_type": "code",
   "execution_count": 8,
   "metadata": {
    "collapsed": true
   },
   "outputs": [],
   "source": [
    "doc_clean = [clean(doc).split() for doc in doc_complete]"
   ]
  },
  {
   "cell_type": "code",
   "execution_count": 10,
   "metadata": {},
   "outputs": [
    {
     "name": "stderr",
     "output_type": "stream",
     "text": [
      "C:\\Users\\tiger\\Anaconda3\\lib\\site-packages\\gensim\\utils.py:1197: UserWarning: detected Windows; aliasing chunkize to chunkize_serial\n",
      "  warnings.warn(\"detected Windows; aliasing chunkize to chunkize_serial\")\n"
     ]
    }
   ],
   "source": [
    "# Importing Gensim\n",
    "import gensim\n",
    "from gensim import corpora"
   ]
  },
  {
   "cell_type": "code",
   "execution_count": 11,
   "metadata": {
    "collapsed": true
   },
   "outputs": [],
   "source": [
    "# Creating the term dictionary of our courpus, where every unique term is assigned an index. \n",
    "dictionary = corpora.Dictionary(doc_clean)"
   ]
  },
  {
   "cell_type": "code",
   "execution_count": 12,
   "metadata": {
    "collapsed": true
   },
   "outputs": [],
   "source": [
    "# Converting list of documents (corpus) into Document Term Matrix using dictionary prepared above.\n",
    "doc_term_matrix = [dictionary.doc2bow(doc) for doc in doc_clean]"
   ]
  },
  {
   "cell_type": "code",
   "execution_count": 13,
   "metadata": {
    "collapsed": true
   },
   "outputs": [],
   "source": [
    "# Creating the object for LDA model using gensim library\n",
    "Lda = gensim.models.ldamodel.LdaModel"
   ]
  },
  {
   "cell_type": "code",
   "execution_count": 14,
   "metadata": {
    "collapsed": true
   },
   "outputs": [],
   "source": [
    "# Running and Trainign LDA model on the document term matrix.\n",
    "ldamodel = Lda(doc_term_matrix, num_topics=10, id2word = dictionary, passes=50)"
   ]
  },
  {
   "cell_type": "code",
   "execution_count": 16,
   "metadata": {},
   "outputs": [
    {
     "name": "stdout",
     "output_type": "stream",
     "text": [
      "[(0, '0.041*\"issue\" + 0.021*\"including\"'), (1, '0.003*\"statoil\" + 0.003*\"human\"'), (2, '0.040*\"child\" + 0.027*\"el\"'), (3, '0.043*\"statoil\" + 0.036*\"right\"'), (4, '0.033*\"international\" + 0.033*\"labour\"'), (5, '0.003*\"international\" + 0.003*\"hotel\"'), (6, '0.003*\"statoil\" + 0.003*\"human\"'), (7, '0.003*\"statoil\" + 0.003*\"human\"'), (8, '0.037*\"policy\" + 0.028*\"company\"'), (9, '0.027*\"international\" + 0.027*\"africa\"')]\n"
     ]
    }
   ],
   "source": [
    "print(ldamodel.print_topics(num_topics=10, num_words=2))"
   ]
  },
  {
   "cell_type": "code",
   "execution_count": null,
   "metadata": {
    "collapsed": true
   },
   "outputs": [],
   "source": []
  }
 ],
 "metadata": {
  "kernelspec": {
   "display_name": "Python 3",
   "language": "python",
   "name": "python3"
  },
  "language_info": {
   "codemirror_mode": {
    "name": "ipython",
    "version": 3
   },
   "file_extension": ".py",
   "mimetype": "text/x-python",
   "name": "python",
   "nbconvert_exporter": "python",
   "pygments_lexer": "ipython3",
   "version": "3.6.1"
  }
 },
 "nbformat": 4,
 "nbformat_minor": 2
}
