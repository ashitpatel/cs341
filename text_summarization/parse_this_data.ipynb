{
 "cells": [
  {
   "cell_type": "code",
   "execution_count": 67,
   "metadata": {
    "collapsed": true
   },
   "outputs": [],
   "source": [
    "import csv"
   ]
  },
  {
   "cell_type": "code",
   "execution_count": 68,
   "metadata": {
    "collapsed": true
   },
   "outputs": [],
   "source": [
    "def convert_to_correct_format(article,abstract):\n",
    "    str1 = article.split('\\n')\n",
    "    new_str1 = 'article=<d>'\n",
    "    for j in str1:\n",
    "        new_str1 = new_str1 +' <p>'\n",
    "        str1_temp = j.split('.')[:-1]\n",
    "        for i in str1_temp:\n",
    "            new_str1 = new_str1+'<s> '+i+'.'+' </s>'\n",
    "        new_str1 = new_str1 + ' </p>'\n",
    "    new_str1 = new_str1 + ' </d>'\n",
    "    \n",
    "    str2 = abstract.split('.')[:-1]\n",
    "    new_str2 = 'abstract=<d> <p>'\n",
    "    for i in str2:\n",
    "        new_str2 = new_str2+'<s> '+i+'.'+' </s>'\n",
    "    new_str2 = new_str2 + ' </p> </d>'\n",
    "    return new_str1,new_str2\n",
    "    "
   ]
  },
  {
   "cell_type": "code",
   "execution_count": 69,
   "metadata": {
    "collapsed": true
   },
   "outputs": [],
   "source": [
    "f=open(\"data\", \"a+\")"
   ]
  },
  {
   "cell_type": "code",
   "execution_count": 70,
   "metadata": {},
   "outputs": [],
   "source": [
    "with open('news_summary.csv') as csvfile:\n",
    "    readCSV = csv.reader(csvfile)\n",
    "    count = 0\n",
    "    for row in readCSV:\n",
    "        count +=1\n",
    "        # skip the first row since it is title\n",
    "        if count == 1:\n",
    "            continue\n",
    "        str1 = row[4]\n",
    "        str2 = row[5]\n",
    "        article,abstract = convert_to_correct_format(str2,str1)\n",
    "        f.write(article)\n",
    "        f.write('\\n')\n",
    "        f.write(abstract)\n",
    "        f.write('\\n')"
   ]
  },
  {
   "cell_type": "code",
   "execution_count": 71,
   "metadata": {
    "collapsed": true
   },
   "outputs": [],
   "source": [
    "f.close()"
   ]
  },
  {
   "cell_type": "code",
   "execution_count": null,
   "metadata": {
    "collapsed": true
   },
   "outputs": [],
   "source": []
  },
  {
   "cell_type": "code",
   "execution_count": 73,
   "metadata": {},
   "outputs": [
    {
     "name": "stdout",
     "output_type": "stream",
     "text": [
      "ho\n",
      "ho\n",
      "ho\n",
      "ho\n",
      "ho\n",
      "ho\n",
      "ho\n",
      "ho\n",
      "ho\n",
      "ho\n",
      "ho\n",
      "ho\n",
      "ho\n",
      "ho\n",
      "ho\n",
      "ho\n",
      "ho\n",
      "ho\n",
      "ho\n",
      "ho\n",
      "ho\n",
      "ho\n",
      "ho\n",
      "ho\n",
      "ho\n",
      "ho\n",
      "ho\n",
      "ho\n",
      "ho\n",
      "ho\n",
      "ho\n",
      "ho\n",
      "ho\n",
      "ho\n",
      "ho\n",
      "ho\n",
      "ho\n",
      "ho\n",
      "ho\n",
      "ho\n",
      "ho\n",
      "ho\n",
      "ho\n",
      "ho\n",
      "ho\n",
      "ho\n",
      "ho\n",
      "ho\n",
      "ho\n",
      "ho\n",
      "ho\n",
      "ho\n",
      "ho\n",
      "ho\n",
      "ho\n",
      "ho\n",
      "ho\n",
      "ho\n",
      "ho\n",
      "ho\n",
      "ho\n",
      "ho\n",
      "ho\n",
      "ho\n",
      "ho\n",
      "ho\n",
      "ho\n",
      "ho\n",
      "ho\n",
      "ho\n",
      "ho\n",
      "ho\n",
      "ho\n",
      "ho\n",
      "ho\n",
      "ho\n",
      "ho\n",
      "ho\n",
      "ho\n",
      "ho\n",
      "ho\n",
      "ho\n",
      "ho\n",
      "ho\n",
      "ho\n",
      "ho\n",
      "ho\n",
      "ho\n",
      "ho\n",
      "ho\n",
      "ho\n",
      "ho\n",
      "ho\n",
      "ho\n",
      "ho\n",
      "ho\n",
      "ho\n",
      "ho\n",
      "ho\n",
      "ho\n",
      "ho\n",
      "ho\n",
      "ho\n",
      "ho\n",
      "ho\n",
      "ho\n",
      "ho\n",
      "ho\n",
      "ho\n",
      "ho\n",
      "ho\n",
      "ho\n",
      "ho\n",
      "ho\n",
      "ho\n",
      "ho\n",
      "ho\n",
      "ho\n"
     ]
    }
   ],
   "source": [
    "with open('news_summary.csv') as csvfile:\n",
    "    readCSV = csv.reader(csvfile)\n",
    "    count = 0\n",
    "    for row in readCSV:\n",
    "        count +=1\n",
    "        # skip the first row since it is title\n",
    "        if count == 1:\n",
    "            continue\n",
    "        str1 = row[4]\n",
    "        str2 = row[5]\n",
    "        if len(str1)==0:\n",
    "            print('h1')\n",
    "        if len(str2) == 0:\n",
    "            print('ho')"
   ]
  },
  {
   "cell_type": "code",
   "execution_count": null,
   "metadata": {
    "collapsed": true
   },
   "outputs": [],
   "source": []
  }
 ],
 "metadata": {
  "kernelspec": {
   "display_name": "Python 3",
   "language": "python",
   "name": "python3"
  },
  "language_info": {
   "codemirror_mode": {
    "name": "ipython",
    "version": 3
   },
   "file_extension": ".py",
   "mimetype": "text/x-python",
   "name": "python",
   "nbconvert_exporter": "python",
   "pygments_lexer": "ipython3",
   "version": "3.6.1"
  }
 },
 "nbformat": 4,
 "nbformat_minor": 2
}
