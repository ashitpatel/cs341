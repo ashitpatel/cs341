{
 "cells": [
  {
   "cell_type": "code",
   "execution_count": 43,
   "metadata": {},
   "outputs": [],
   "source": [
    "import json\n",
    "from random import shuffle"
   ]
  },
  {
   "cell_type": "code",
   "execution_count": 44,
   "metadata": {},
   "outputs": [],
   "source": [
    "with open('data/data_with_middle_layer.json') as json_posFile:\n",
    "    posData = json.load(json_posFile)"
   ]
  },
  {
   "cell_type": "code",
   "execution_count": 45,
   "metadata": {},
   "outputs": [
    {
     "name": "stdout",
     "output_type": "stream",
     "text": [
      "55326\n",
      "{'title': 'Finally, WTO to Open Debate on Patents and Low-Cost Drugs', 'url': 'https://www.business-humanrights.org/finally-wto-to-open-debate-on-patents-and-low-cost-drugs', 'body': \"The much-awaited debate on how international patent laws affect developing countries' access to medications begins Wednesday, Jun 20, at the World Trade Organisation (WTO), and the countries, corporations and civil society groups involved are putting the final touches on their arguments.\", 'companies': [], 'leaf_categories': ['Pharmaceutical', 'Health: General (including workplace health & safety)', 'Access to medicines', 'Intellectual property', 'WTO'], 'middle_categories': ['Other', 'Intl. finance/trade orgs.', 'Health']}\n"
     ]
    },
    {
     "data": {
      "text/plain": [
       "5"
      ]
     },
     "execution_count": 45,
     "metadata": {},
     "output_type": "execute_result"
    }
   ],
   "source": [
    "print(len(posData))\n",
    "print(posData[0])\n",
    "x = posData[0]\n",
    "len(x['leaf_categories'])"
   ]
  },
  {
   "cell_type": "code",
   "execution_count": 46,
   "metadata": {},
   "outputs": [],
   "source": [
    "import re\n",
    "from w3lib.html import remove_tags\n",
    "def clense(text, space_replacer = ' ', to_lower = True, remove_punc = True):\n",
    "    # remove HTML comments first as suggested in https://stackoverflow.com/questions/28208186/how-to-remove-html-comments-using-regex-in-python\n",
    "    text = re.sub(\"(<!--.*?-->)\", \"\", text, flags=re.DOTALL)\n",
    "    text = remove_tags(text)\n",
    "    text = re.sub(r'[^\\x00-\\x7F]+',' ', text)   #remove non-ascii characters\n",
    "    text = text.replace(\"&amp;\", \"and\")\n",
    "    text = text.replace(\"&\", \"and\")\n",
    "    text.strip()\n",
    "    text.rstrip()\n",
    "    text = text.replace(\"\\r\\n\", \"\")\n",
    "    text = text.replace(\"\\n\", \"\")\n",
    "    text = text.replace(\"\\\"\", \"\")\n",
    "    if to_lower:\n",
    "        text = text.lower()\n",
    "\n",
    "    if remove_punc:\n",
    "        # from https://stackoverflow.com/questions/265960/best-way-to-strip-punctuation-from-a-string-in-python\n",
    "        text = re.sub(r'[^\\w\\s]', '', text)   #remove punctuation marks and non-word\n",
    "        text = text.replace(\",\", \"\")\n",
    "\n",
    "    text = re.sub(' +', space_replacer, text)\n",
    "    #if  all(ord(char) < 128 for char in text) == False:\n",
    "    #    text = ''\n",
    "    ''.join(i for i in text if ord(i)<128)\n",
    "    return text"
   ]
  },
  {
   "cell_type": "code",
   "execution_count": 47,
   "metadata": {},
   "outputs": [],
   "source": [
    "# one label for each body\n",
    "new_posData = []\n",
    "for x in posData:\n",
    "    if x['body'] is not None:\n",
    "        if len(x['body']) < 5: # if body is empty\n",
    "            continue\n",
    "        each_data = {}\n",
    "        each_data['body'] = x['body']\n",
    "        unitemp = each_data['body'].encode('utf8').decode('utf8')\n",
    "        each_data['body'] = clense(unitemp,to_lower=False,remove_punc=False).strip()\n",
    "        each_data['category'] = []\n",
    "        for y in range (len(x['leaf_categories'])):\n",
    "            each_data['category'].append(x['leaf_categories'][y])\n",
    "        new_posData.append(each_data)"
   ]
  },
  {
   "cell_type": "code",
   "execution_count": 48,
   "metadata": {},
   "outputs": [
    {
     "name": "stdout",
     "output_type": "stream",
     "text": [
      "{'body': \"The much-awaited debate on how international patent laws affect developing countries' access to medications begins Wednesday, Jun 20, at the World Trade Organisation (WTO), and the countries, corporations and civil society groups involved are putting the final touches on their arguments.\", 'category': ['Pharmaceutical', 'Health: General (including workplace health & safety)', 'Access to medicines', 'Intellectual property', 'WTO']}\n",
      "{'body': 'A vaccine is our last, best hope of stopping the epidemic. Seth Berkley is trying to deliver the dream. If Seth Berkley finds a vaccine, he hopes to guarantee instant worldwide access to it.', 'category': ['Pharmaceutical', 'Health: General (including workplace health & safety)', 'Access to medicines', 'HIV/AIDS']}\n",
      "{'body': \"Program to Expand on South African Partnership Model in Cooperation With United Nations' AIDS Program and World Health Organization\", 'category': ['Pharmaceutical', 'Health: General (including workplace health & safety)', 'Access to medicines', 'HIV/AIDS', 'WHO']}\n"
     ]
    }
   ],
   "source": [
    "print(new_posData[0])\n",
    "print(new_posData[1])\n",
    "print(new_posData[2])"
   ]
  },
  {
   "cell_type": "code",
   "execution_count": null,
   "metadata": {},
   "outputs": [],
   "source": []
  },
  {
   "cell_type": "code",
   "execution_count": 49,
   "metadata": {},
   "outputs": [],
   "source": [
    "shuffle(new_posData)"
   ]
  },
  {
   "cell_type": "code",
   "execution_count": 50,
   "metadata": {},
   "outputs": [
    {
     "name": "stdout",
     "output_type": "stream",
     "text": [
      "{'body': \"Without doubt the appointment of Tidjane Thiam is a major breakthrough for black Britons in business. It is a powerful indicator that things are changing, and that in some cases, and in certain companies, talented black people can make it to the top. But we shouldn't leaping to conclusions Thiam...works in a city where 30% are racial minorities. So having one man in this position highlights inequality rather than equality...Across Britain's biggest institutions, the fact is there has been little real change of culture, and the minority faces are just black and brown dots, bobbing about in a sea of white...[refers to Prudential, BT]\", 'category': ['United Kingdom', 'Finance & banking', 'Insurance', 'CEOs', 'Discrimination/diversity: General', 'Racial & ethnic groups']}\n",
      "Finance & banking\n",
      "Finance_&_banking\n",
      "__label__Finance_&_banking__  \n",
      "__label__Finance_&_banking__  __label__Finance_&_banking__  \n",
      "__label__Finance_&_banking__  __label__Finance_&_banking__  Without doubt the appointment of Tidjane Thiam is a major breakthrough for black Britons in business. It is a powerful indicator that things are changing, and that in some cases, and in certain companies, talented black people can make it to the top. But we shouldn't leaping to conclusions Thiam...works in a city where 30% are racial minorities. So having one man in this position highlights inequality rather than equality...Across Britain's biggest institutions, the fact is there has been little real change of culture, and the minority faces are just black and brown dots, bobbing about in a sea of white...[refers to Prudential, BT]\n"
     ]
    }
   ],
   "source": [
    "# single data trial\n",
    "print(new_posData[0])\n",
    "y = new_posData[0]['category'][1]\n",
    "print(y)\n",
    "label = ''\n",
    "cat = ''\n",
    "for i in y:\n",
    "    if i == ' ':\n",
    "        cat = cat + '_'\n",
    "    else :\n",
    "        cat = cat + i\n",
    "label = label + '__label__' + cat + '__  '\n",
    "print(cat) \n",
    "print(label)\n",
    "label = label + '__label__' + cat + '__  '\n",
    "print(label)\n",
    "print(label + new_posData[0]['body'])"
   ]
  },
  {
   "cell_type": "code",
   "execution_count": 51,
   "metadata": {},
   "outputs": [],
   "source": [
    "f = open(\"leaf_bhr.txt\",\"w+\")\n",
    "for x in new_posData:\n",
    "    label = \"\"\n",
    "    body = x['body'].strip()\n",
    "    for y in x['category']:\n",
    "        cat = ''\n",
    "        for i in y:\n",
    "            if i == ' ':\n",
    "                cat = cat + '_'\n",
    "            else :\n",
    "                cat = cat + i\n",
    "        label = label + '__label__' + cat.strip() + '__  '        \n",
    "    f.write(label + body + '\\n')\n",
    "f.close()"
   ]
  },
  {
   "cell_type": "code",
   "execution_count": null,
   "metadata": {},
   "outputs": [],
   "source": []
  },
  {
   "cell_type": "code",
   "execution_count": null,
   "metadata": {},
   "outputs": [],
   "source": []
  }
 ],
 "metadata": {
  "anaconda-cloud": {},
  "kernelspec": {
   "display_name": "Python 3",
   "language": "python",
   "name": "python3"
  },
  "language_info": {
   "codemirror_mode": {
    "name": "ipython",
    "version": 3
   },
   "file_extension": ".py",
   "mimetype": "text/x-python",
   "name": "python",
   "nbconvert_exporter": "python",
   "pygments_lexer": "ipython3",
   "version": "3.6.4"
  }
 },
 "nbformat": 4,
 "nbformat_minor": 1
}
