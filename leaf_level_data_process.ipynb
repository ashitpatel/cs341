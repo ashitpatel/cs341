{
 "cells": [
  {
   "cell_type": "code",
   "execution_count": 1,
   "metadata": {
    "collapsed": true
   },
   "outputs": [],
   "source": [
    "import json\n",
    "from random import shuffle"
   ]
  },
  {
   "cell_type": "code",
   "execution_count": 2,
   "metadata": {
    "collapsed": true
   },
   "outputs": [],
   "source": [
    "with open('data_human_rights.json') as json_posFile:\n",
    "    posData = json.load(json_posFile)"
   ]
  },
  {
   "cell_type": "code",
   "execution_count": 3,
   "metadata": {
    "collapsed": false
   },
   "outputs": [
    {
     "name": "stdout",
     "output_type": "stream",
     "text": [
      "65630\n",
      "{u'url': u'https://www.business-humanrights.org/finally-wto-to-open-debate-on-patents-and-low-cost-drugs', u'body': u\"The much-awaited debate on how international patent laws affect developing countries' access to medications begins Wednesday, Jun 20, at the World Trade Organisation (WTO), and the countries, corporations and civil society groups involved are putting the final touches on their arguments.\", u'companies': [], u'categories': [u'Pharmaceutical', u'Health: General (including workplace health & safety)', u'Access to medicines', u'Intellectual property', u'WTO'], u'title': u'Finally, WTO to Open Debate on Patents and Low-Cost Drugs'}\n"
     ]
    },
    {
     "data": {
      "text/plain": [
       "5"
      ]
     },
     "execution_count": 3,
     "metadata": {},
     "output_type": "execute_result"
    }
   ],
   "source": [
    "print len(posData)\n",
    "print posData[0]\n",
    "x = posData[0]\n",
    "len(x['categories'])"
   ]
  },
  {
   "cell_type": "code",
   "execution_count": 4,
   "metadata": {
    "collapsed": true
   },
   "outputs": [],
   "source": [
    "import re\n",
    "from w3lib.html import remove_tags\n",
    "def clense(text, space_replacer = ' ', to_lower = True, remove_punc = True):\n",
    "    # remove HTML comments first as suggested in https://stackoverflow.com/questions/28208186/how-to-remove-html-comments-using-regex-in-python\n",
    "    text = re.sub(\"(<!--.*?-->)\", \"\", text, flags=re.DOTALL)\n",
    "    text = remove_tags(text)\n",
    "    text = re.sub(r'[^\\x00-\\x7F]+',' ', text)   #remove non-ascii characters\n",
    "    text = text.replace(\"&amp;\", \"and\")\n",
    "    text = text.replace(\"&\", \"and\")\n",
    "    text.strip()\n",
    "    text.rstrip()\n",
    "    text = text.replace(\"\\r\\n\", \"\")\n",
    "    text = text.replace(\"\\n\", \"\")\n",
    "    text = text.replace(\"\\\"\", \"\")\n",
    "    if to_lower:\n",
    "        text = text.lower()\n",
    "\n",
    "    if remove_punc:\n",
    "        # from https://stackoverflow.com/questions/265960/best-way-to-strip-punctuation-from-a-string-in-python\n",
    "        text = re.sub(r'[^\\w\\s]', '', text)   #remove punctuation marks and non-word\n",
    "        text = text.replace(\",\", \"\")\n",
    "\n",
    "    text = re.sub(' +', space_replacer, text)\n",
    "    #if  all(ord(char) < 128 for char in text) == False:\n",
    "    #    text = ''\n",
    "    ''.join(i for i in text if ord(i)<128)\n",
    "    return text"
   ]
  },
  {
   "cell_type": "code",
   "execution_count": 27,
   "metadata": {
    "collapsed": false
   },
   "outputs": [],
   "source": [
    "# one label for each body\n",
    "new_posData = []\n",
    "for x in posData:\n",
    "    if x['body'] is not None:\n",
    "        if len(x['body']) < 5: # if body is empty\n",
    "            continue\n",
    "        for y in range (len(x['categories'])):\n",
    "            each_data = {}\n",
    "            each_data['body'] = x['body']\n",
    "            unitemp = each_data['body'].encode('utf8')\n",
    "            each_data['body'] = clense(unitemp,to_lower=False,remove_punc=False).strip()\n",
    "            each_data['category'] = []\n",
    "            each_data['category'].append(x['categories'][y])\n",
    "            new_posData.append(each_data)"
   ]
  },
  {
   "cell_type": "code",
   "execution_count": 28,
   "metadata": {
    "collapsed": false
   },
   "outputs": [
    {
     "name": "stdout",
     "output_type": "stream",
     "text": [
      "{'body': u\"The much-awaited debate on how international patent laws affect developing countries' access to medications begins Wednesday, Jun 20, at the World Trade Organisation (WTO), and the countries, corporations and civil society groups involved are putting the final touches on their arguments.\", 'category': [u'Pharmaceutical']}\n",
      "{'body': u\"The much-awaited debate on how international patent laws affect developing countries' access to medications begins Wednesday, Jun 20, at the World Trade Organisation (WTO), and the countries, corporations and civil society groups involved are putting the final touches on their arguments.\", 'category': [u'Health: General (including workplace health & safety)']}\n",
      "{'body': u\"The much-awaited debate on how international patent laws affect developing countries' access to medications begins Wednesday, Jun 20, at the World Trade Organisation (WTO), and the countries, corporations and civil society groups involved are putting the final touches on their arguments.\", 'category': [u'Access to medicines']}\n"
     ]
    }
   ],
   "source": [
    "print new_posData[0]\n",
    "print new_posData[1]\n",
    "print new_posData[2]"
   ]
  },
  {
   "cell_type": "code",
   "execution_count": 5,
   "metadata": {
    "collapsed": true
   },
   "outputs": [],
   "source": [
    "# multi labels for each body\n",
    "new_posData = []\n",
    "for x in posData:\n",
    "    each_data = {}\n",
    "    if x['body'] is not None:\n",
    "        if len(x['body']) < 5: # if body is empty\n",
    "            continue\n",
    "        each_data['body'] = x['body']\n",
    "        unitemp = each_data['body'].encode('utf8')\n",
    "        each_data['body'] = clense(unitemp,to_lower=False,remove_punc=False).strip()\n",
    "        each_data['category'] = []\n",
    "        for y in range (len(x['categories'])):\n",
    "            each_data['category'].append(x['categories'][y])\n",
    "        new_posData.append(each_data)"
   ]
  },
  {
   "cell_type": "code",
   "execution_count": 6,
   "metadata": {
    "collapsed": true
   },
   "outputs": [],
   "source": [
    "shuffle(new_posData)"
   ]
  },
  {
   "cell_type": "code",
   "execution_count": 50,
   "metadata": {
    "collapsed": false
   },
   "outputs": [
    {
     "name": "stdout",
     "output_type": "stream",
     "text": [
      "{'body': u\"The much-awaited debate on how international patent laws affect developing countries' access to medications begins Wednesday, Jun 20, at the World Trade Organisation (WTO), and the countries, corporations and civil society groups involved are putting the final touches on their arguments.\", 'category': [u'Pharmaceutical', u'Health: General (including workplace health & safety)', u'Access to medicines', u'Intellectual property', u'WTO']}\n",
      "Health: General (including workplace health & safety)\n",
      "Health:_General_(including_workplace_health_&_safety)\n",
      "__label__Health:_General_(including_workplace_health_&_safety)__  \n",
      "__label__Health:_General_(including_workplace_health_&_safety)__  __label__Health:_General_(including_workplace_health_&_safety)__  \n",
      "__label__Health:_General_(including_workplace_health_&_safety)__  __label__Health:_General_(including_workplace_health_&_safety)__  The much-awaited debate on how international patent laws affect developing countries' access to medications begins Wednesday, Jun 20, at the World Trade Organisation (WTO), and the countries, corporations and civil society groups involved are putting the final touches on their arguments.\n"
     ]
    }
   ],
   "source": [
    "# single data trial\n",
    "print new_posData[0]\n",
    "y = new_posData[0]['category'][1]\n",
    "print y\n",
    "label = ''\n",
    "cat = ''\n",
    "for i in y:\n",
    "    if i == ' ':\n",
    "        cat = cat + '_'\n",
    "    else :\n",
    "        cat = cat + i\n",
    "label = label + '__label__' + cat + '__  '\n",
    "print cat   \n",
    "print label\n",
    "label = label + '__label__' + cat + '__  '\n",
    "print label\n",
    "print label + new_posData[0]['body']"
   ]
  },
  {
   "cell_type": "code",
   "execution_count": 7,
   "metadata": {
    "collapsed": false
   },
   "outputs": [],
   "source": [
    "f = open(\"leaf_bhr.txt\",\"w+\")\n",
    "for x in new_posData:\n",
    "    label = \"\"\n",
    "    body = x['body'].encode('utf-8').strip()\n",
    "    for y in x['category']:\n",
    "        cat = ''\n",
    "        for i in y:\n",
    "            if i == ' ':\n",
    "                cat = cat + '_'\n",
    "            else :\n",
    "                cat = cat + i\n",
    "        label = label + '__label__' + cat.encode('utf-8').strip() + '__  '        \n",
    "    f.write(label + body + '\\n')\n",
    "f.close()"
   ]
  },
  {
   "cell_type": "code",
   "execution_count": null,
   "metadata": {
    "collapsed": true
   },
   "outputs": [],
   "source": []
  }
 ],
 "metadata": {
  "anaconda-cloud": {},
  "kernelspec": {
   "display_name": "Python [default]",
   "language": "python",
   "name": "python2"
  },
  "language_info": {
   "codemirror_mode": {
    "name": "ipython",
    "version": 2
   },
   "file_extension": ".py",
   "mimetype": "text/x-python",
   "name": "python",
   "nbconvert_exporter": "python",
   "pygments_lexer": "ipython2",
   "version": "2.7.12"
  }
 },
 "nbformat": 4,
 "nbformat_minor": 1
}
