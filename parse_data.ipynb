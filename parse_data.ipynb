{
 "cells": [
  {
   "cell_type": "code",
   "execution_count": 36,
   "metadata": {
    "collapsed": true
   },
   "outputs": [],
   "source": [
    "import json"
   ]
  },
  {
   "cell_type": "code",
   "execution_count": 37,
   "metadata": {
    "collapsed": true
   },
   "outputs": [],
   "source": [
    "new_data = []\n"
   ]
  },
  {
   "cell_type": "code",
   "execution_count": 38,
   "metadata": {},
   "outputs": [
    {
     "name": "stdout",
     "output_type": "stream",
     "text": [
      "[]\n"
     ]
    }
   ],
   "source": [
    "print(new_data)"
   ]
  },
  {
   "cell_type": "code",
   "execution_count": 39,
   "metadata": {
    "collapsed": true
   },
   "outputs": [],
   "source": [
    "import re\n",
    "from w3lib.html import remove_tags\n",
    "def clense(text, space_replacer = ' ', to_lower = True, remove_punc = True):\n",
    "    # remove HTML comments first as suggested in https://stackoverflow.com/questions/28208186/how-to-remove-html-comments-using-regex-in-python\n",
    "    text = re.sub(\"(<!--.*?-->)\", \"\", text, flags=re.DOTALL)\n",
    "    text = remove_tags(text)\n",
    "    text = re.sub(r'[^\\x00-\\x7F]+',' ', text)   #remove non-ascii characters\n",
    "    text = text.replace(\"&amp;\", \"and\")\n",
    "    text = text.replace(\"&\", \"and\")\n",
    "    text.strip()\n",
    "    text.rstrip()\n",
    "    text = text.replace(\"\\r\\n\", \"\")\n",
    "    text = text.replace(\"\\n\", \"\")\n",
    "    text = text.replace(\"\\\"\", \"\")\n",
    "    if to_lower:\n",
    "        text = text.lower()\n",
    "\n",
    "    if remove_punc:\n",
    "        # from https://stackoverflow.com/questions/265960/best-way-to-strip-punctuation-from-a-string-in-python\n",
    "        text = re.sub(r'[^\\w\\s]', '', text)   #remove punctuation marks and non-word\n",
    "        text = text.replace(\",\", \"\")\n",
    "\n",
    "    text = re.sub(' +', space_replacer, text)\n",
    "    #if  all(ord(char) < 128 for char in text) == False:\n",
    "    #    text = ''\n",
    "    ''.join(i for i in text if ord(i)<128)\n",
    "    return text"
   ]
  },
  {
   "cell_type": "code",
   "execution_count": 40,
   "metadata": {
    "collapsed": true
   },
   "outputs": [],
   "source": [
    "with open('Components_Part 1_0418.json') as json_file:\n",
    "    data = json.load(json_file)\n",
    "    "
   ]
  },
  {
   "cell_type": "code",
   "execution_count": 41,
   "metadata": {},
   "outputs": [],
   "source": [
    "for x in data:\n",
    "    if 'result' not in x:\n",
    "        continue\n",
    "    each_data = {}\n",
    "    if x['result']['title'] is not None:\n",
    "        if len(str(x['result']['body'])) == 2: # if body is empty\n",
    "            continue\n",
    "        each_data['title'] = x['result']['title']\n",
    "        each_data['url'] = x['result']['url']\n",
    "        each_data['body'] = clense(str(x['result']['body']),to_lower=False,remove_punc=False).strip()\n",
    "        each_data['companies'] = []\n",
    "        for temp in x['result']['companies']:\n",
    "            each_data['companies'].append(temp['title'])\n",
    "        each_data['categories'] = []\n",
    "        for temp in x['result']['categories']:\n",
    "            each_data['categories'].append(temp['name'])\n",
    "        new_data.append(each_data)\n",
    "    \n",
    "    \n"
   ]
  },
  {
   "cell_type": "code",
   "execution_count": 42,
   "metadata": {
    "collapsed": true
   },
   "outputs": [],
   "source": [
    "with open('Components_Part 2_0418.json') as json_file2:\n",
    "    data2 = json.load(json_file2)"
   ]
  },
  {
   "cell_type": "code",
   "execution_count": 43,
   "metadata": {
    "collapsed": true
   },
   "outputs": [],
   "source": [
    "for x in data2:\n",
    "    if 'result' not in x:\n",
    "        continue\n",
    "    each_data = {}\n",
    "    if x['result']['title'] is not None:\n",
    "        if len(str(x['result']['body'])) == 2: # if body is empty\n",
    "            continue\n",
    "        each_data['title'] = x['result']['title']\n",
    "        each_data['url'] = x['result']['url']\n",
    "        each_data['body'] = clense(str(x['result']['body']),to_lower=False,remove_punc=False).strip()\n",
    "        each_data['companies'] = []\n",
    "        for temp in x['result']['companies']:\n",
    "            each_data['companies'].append(temp['title'])\n",
    "        each_data['categories'] = []\n",
    "        for temp in x['result']['categories']:\n",
    "            each_data['categories'].append(temp['name'])\n",
    "        new_data.append(each_data)"
   ]
  },
  {
   "cell_type": "code",
   "execution_count": 44,
   "metadata": {},
   "outputs": [
    {
     "name": "stdout",
     "output_type": "stream",
     "text": [
      "65630\n"
     ]
    }
   ],
   "source": [
    "print(len(new_data))"
   ]
  },
  {
   "cell_type": "code",
   "execution_count": 45,
   "metadata": {
    "collapsed": true
   },
   "outputs": [],
   "source": [
    "with open('parsed_data.json','w') as file:\n",
    "    json.dump(new_data,file)"
   ]
  },
  {
   "cell_type": "code",
   "execution_count": 46,
   "metadata": {},
   "outputs": [
    {
     "name": "stdout",
     "output_type": "stream",
     "text": [
      "{'title': 'USA: Female ex-employee files lawsuit against tech co. Intel alleging significant pay disparity based on her race & gender', 'url': 'https://www.business-humanrights.org/usa-female-ex-employee-files-lawsuit-against-tech-co-intel-alleging-significant-pay-disparity-based-on-her-race-gender', 'body': \"Who had Intel in the 'discrimination lawsuit' pool? Congratulations, 2 Apr 2018Intel has been accused of discrimination after a former employee says she was severely underpaid based on her race and gender...Cristina Wong filed suit against the chip giant in the Northern California US District Court alleging violations of the Federal Equal Pay Act, California Fair Employment and Housing Act, California Fair Pay Act, and the Unfair Competition Law. According to Wong's complaint...Intel deliberately paid the Asian American woman tens of thousands of dollars less than her white and male peers made annually, then fired her when she raised issue...In addition to being recognized for her marketing work...the suit notes that Wong, who also identifies as lesbian, was held up by Intel as an example of its equal employment practices...[T]he suit alleges, Wong was paid significantly less than her peers, despite having similar roles and more experience. The suit alleges Wong's salary was $30,000 less than the next-lowest paid person in her group and $40,000 less than the minimum compensation for her grade level, something she says her boss...acknowledged and recommended she take up with Human Resources...When Wong did bring up the pay disparity...she says Intel terminated her in retaliation. Now, she seeks damages for racial and gender discrimination. Intel did not respond to a request for comment on the case.\", 'companies': ['Intel'], 'categories': ['Lawsuits & regulatory action: General', 'Estados Unidos', 'Labour: General', 'Gender discrimination', 'Racial/ethnic/caste/origin discrimination', 'Technology, telecom & electronics']}\n"
     ]
    }
   ],
   "source": [
    "print(new_data[len(new_data)-1])"
   ]
  },
  {
   "cell_type": "code",
   "execution_count": 47,
   "metadata": {
    "collapsed": true
   },
   "outputs": [],
   "source": [
    "d_train = new_data[:60000]\n",
    "d_val = new_data[60000:]"
   ]
  },
  {
   "cell_type": "code",
   "execution_count": 48,
   "metadata": {},
   "outputs": [
    {
     "name": "stdout",
     "output_type": "stream",
     "text": [
      "60000\n",
      "5630\n"
     ]
    }
   ],
   "source": [
    "print(len(d_train))\n",
    "print(len(d_val))"
   ]
  },
  {
   "cell_type": "code",
   "execution_count": 16,
   "metadata": {},
   "outputs": [
    {
     "name": "stdout",
     "output_type": "stream",
     "text": [
      "{'title': 'Two jailed Mexican logging activists lose appeal', 'url': 'https://www.business-humanrights.org/two-jailed-mexican-logging-activists-lose-appeal', 'body': 'A Mexican court rejected an appeal on Tuesday by two Mexican peasant activists jailed two years ago while leading an anti-logging protest, a defense lawyer said.', 'companies': [], 'categories': ['Mexico', 'Logging & lumber', 'Environment: General']}\n"
     ]
    }
   ],
   "source": [
    "print(d_train[5999])"
   ]
  },
  {
   "cell_type": "code",
   "execution_count": 17,
   "metadata": {},
   "outputs": [
    {
     "name": "stdout",
     "output_type": "stream",
     "text": [
      "{'title': 'USA: Female ex-employee files lawsuit against tech co. Intel alleging significant pay disparity based on her race & gender', 'url': 'https://www.business-humanrights.org/usa-female-ex-employee-files-lawsuit-against-tech-co-intel-alleging-significant-pay-disparity-based-on-her-race-gender', 'body': '\"Who had Intel in the \\'discrimination lawsuit\\' pool? Congratulations\", 2 Apr 2018Intel has been accused of discrimination after a former employee says she was severely underpaid based on her race and gender...Cristina Wong filed suit against the chip giant in the Northern California US District Court alleging violations of the Federal Equal Pay Act, California Fair Employment and Housing Act, California Fair Pay Act, and the Unfair Competition Law. According to Wong\\'s complaint...Intel deliberately paid the Asian American woman tens of thousands of dollars less than her white and male peers made annually, then fired her when she raised issue...In addition to being recognized for her marketing work...the suit notes that Wong, who also identifies as lesbian, was held up by Intel as an example of its equal employment practices...[T]he suit alleges, Wong was paid significantly less than her peers, despite having similar roles and more experience. The suit alleges Wong\\'s salary was $30,000 less than the next-lowest paid person in her group and $40,000 less than the minimum compensation for her grade level, something she says her boss...acknowledged and recommended she take up with Human Resources...When Wong did bring up the pay disparity...she says Intel terminated her in retaliation. Now, she seeks damages for racial and gender discrimination. Intel did not respond to a request for comment on the case.', 'companies': ['Intel'], 'categories': ['Lawsuits & regulatory action: General', 'Estados Unidos', 'Labour: General', 'Gender discrimination', 'Racial/ethnic/caste/origin discrimination', 'Technology, telecom & electronics']}\n"
     ]
    }
   ],
   "source": [
    "print(d_val[5629])"
   ]
  },
  {
   "cell_type": "code",
   "execution_count": 49,
   "metadata": {
    "collapsed": true
   },
   "outputs": [],
   "source": [
    "with open('parsed_data_train.json','w') as file:\n",
    "    json.dump(d_train,file)"
   ]
  },
  {
   "cell_type": "code",
   "execution_count": 50,
   "metadata": {
    "collapsed": true
   },
   "outputs": [],
   "source": [
    "with open('parsed_data_val.json','w') as file:\n",
    "    json.dump(d_val,file)"
   ]
  },
  {
   "cell_type": "code",
   "execution_count": null,
   "metadata": {
    "collapsed": true
   },
   "outputs": [],
   "source": []
  }
 ],
 "metadata": {
  "kernelspec": {
   "display_name": "Python 3",
   "language": "python",
   "name": "python3"
  },
  "language_info": {
   "codemirror_mode": {
    "name": "ipython",
    "version": 3
   },
   "file_extension": ".py",
   "mimetype": "text/x-python",
   "name": "python",
   "nbconvert_exporter": "python",
   "pygments_lexer": "ipython3",
   "version": "3.6.1"
  }
 },
 "nbformat": 4,
 "nbformat_minor": 2
}
